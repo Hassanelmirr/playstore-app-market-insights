{
 "cells": [
  {
   "cell_type": "markdown",
   "id": "7842616a-40a3-4b97-a713-c1f5b7220681",
   "metadata": {},
   "source": [
    "# **Playstore app market insights**"
   ]
  },
  {
   "cell_type": "markdown",
   "id": "fb468676-480e-41d3-a040-45f337bbaecd",
   "metadata": {},
   "source": [
    "## **Introduction**\n",
    "\n",
    "This project is based on a dataset of more than two million applications from the **Google Play Store**.  \n",
    "The dataset includes app information such as category, ratings, installs, price, free/paid status, in-app purchases, and Play Store recommendations.  \n",
    "\n",
    "This dataset is particularly relevant to **Xpertbot**, an educational app, since it allows us to explore how **Education apps** perform within the wider app market.  \n",
    "By analyzing this dataset, we can gain insights into:\n",
    "\n",
    "-  The distribution of apps across categories and the position of Education apps.  \n",
    "-  The quality of apps (ratings, installs, user engagement).  \n",
    "-  Monetization strategies (free vs paid, in-app purchases).  \n",
    "-  The effect of Play Store recommendations on visibility and success.\n",
    "-  \n",
    "This combination of **overall market analysis**, **deep dive into Education apps**, and **comparisons with other categories** can help Xpertbot better understand its competitive environment and user preferences.\n",
    "\n",
    "*Dataset Source : Kaggle.com*\n",
    "\n",
    "\n"
   ]
  },
  {
   "cell_type": "code",
   "execution_count": 58,
   "id": "c982d45f-f1c4-4891-933f-582da4432a50",
   "metadata": {},
   "outputs": [],
   "source": [
    "import pandas as pd\n",
    "import numpy as np\n",
    "import matplotlib.pyplot as plt\n",
    "import seaborn as sns"
   ]
  },
  {
   "cell_type": "code",
   "execution_count": 137,
   "id": "40e4c3f3-1c74-4213-9310-070a02996f09",
   "metadata": {},
   "outputs": [],
   "source": [
    "df = pd.read_csv(r\"C:\\Users\\A\\Desktop\\playstore_app_market_insights\\Database\\Google-Playstore.csv\")"
   ]
  },
  {
   "cell_type": "markdown",
   "id": "7728b04a-edf0-4284-b7a8-d7428c15bb7f",
   "metadata": {},
   "source": [
    "## **Dataset Overview**"
   ]
  },
  {
   "cell_type": "markdown",
   "id": "5b6d0cca-294c-4702-876f-2f55ee3fe40f",
   "metadata": {},
   "source": [
    "*The dataset contains information about apps on Google Play Store, including category, ratings, installs, price, and developer information.*"
   ]
  },
  {
   "cell_type": "code",
   "execution_count": 93,
   "id": "d369bd82-96e6-4ca3-9fcf-c2efc9e0fe35",
   "metadata": {},
   "outputs": [
    {
     "name": "stdout",
     "output_type": "stream",
     "text": [
      "<class 'pandas.core.frame.DataFrame'>\n",
      "RangeIndex: 2312944 entries, 0 to 2312943\n",
      "Data columns (total 24 columns):\n",
      " #   Column             Dtype  \n",
      "---  ------             -----  \n",
      " 0   App Name           object \n",
      " 1   App Id             object \n",
      " 2   Category           object \n",
      " 3   Rating             float64\n",
      " 4   Rating Count       float64\n",
      " 5   Installs           object \n",
      " 6   Minimum Installs   float64\n",
      " 7   Maximum Installs   int64  \n",
      " 8   Free               bool   \n",
      " 9   Price              float64\n",
      " 10  Currency           object \n",
      " 11  Size               object \n",
      " 12  Minimum Android    object \n",
      " 13  Developer Id       object \n",
      " 14  Developer Website  object \n",
      " 15  Developer Email    object \n",
      " 16  Released           object \n",
      " 17  Last Updated       object \n",
      " 18  Content Rating     object \n",
      " 19  Privacy Policy     object \n",
      " 20  Ad Supported       bool   \n",
      " 21  In App Purchases   bool   \n",
      " 22  Editors Choice     bool   \n",
      " 23  Scraped Time       object \n",
      "dtypes: bool(4), float64(4), int64(1), object(15)\n",
      "memory usage: 361.8+ MB\n",
      "We have 2312944 ovservations in the initial dataset\n"
     ]
    }
   ],
   "source": [
    "df.head()\n",
    "df.info()\n",
    "df.shape\n",
    "print(f'We have {len(df)} ovservations in the initial dataset')"
   ]
  },
  {
   "cell_type": "markdown",
   "id": "7b24eccf-4038-46da-99e1-4ba90313864b",
   "metadata": {},
   "source": [
    "---\n",
    "\n"
   ]
  },
  {
   "cell_type": "markdown",
   "id": "2428edbb-dde4-4fec-9ab6-3c46546bf0f6",
   "metadata": {},
   "source": [
    "# **Data Cleaning & Transformation**"
   ]
  },
  {
   "cell_type": "markdown",
   "id": "45c93de4-ec84-4d19-973c-487b17cc3a75",
   "metadata": {},
   "source": [
    "## *Handling Missing values*"
   ]
  },
  {
   "cell_type": "code",
   "execution_count": 138,
   "id": "153643ac-633b-4b06-8ff8-00932f782fd3",
   "metadata": {},
   "outputs": [
    {
     "data": {
      "text/plain": [
       "App Name                  0\n",
       "App Id                    0\n",
       "Category                  0\n",
       "Rating                    0\n",
       "Rating Count          22883\n",
       "Installs                107\n",
       "Minimum Installs          0\n",
       "Maximum Installs          0\n",
       "Free                      0\n",
       "Price                     0\n",
       "Currency                  0\n",
       "Size                    196\n",
       "Minimum Android        6530\n",
       "Developer Id              0\n",
       "Developer Website    760831\n",
       "Developer Email          31\n",
       "Released                  0\n",
       "Last Updated              0\n",
       "Content Rating            0\n",
       "Privacy Policy       420950\n",
       "Ad Supported              0\n",
       "In App Purchases          0\n",
       "Editors Choice            0\n",
       "Scraped Time              0\n",
       "Released_missing          0\n",
       "max_inst_miss             0\n",
       "dtype: int64"
      ]
     },
     "execution_count": 138,
     "metadata": {},
     "output_type": "execute_result"
    }
   ],
   "source": [
    "df.isnull().sum()\n",
    "\n",
    "# Drop rows where App Name is missing\n",
    "df = df.dropna(subset=['App Name'])\n",
    "\n",
    "# then check if it really drop it \n",
    "df.isnull().sum() \n",
    "\n",
    "# Fill missing ratings with the median rating of each Category\n",
    "df['Rating'] = df.groupby('Category')['Rating'].transform(lambda x: x.fillna(x.median()))\n",
    "\n",
    "# Create a flag column to mark imputed values\n",
    "df['Released_missing'] = df['Released'].isna().astype(int)\n",
    "# Fill Released with Last Updated when missing\n",
    "df['Released'] = df['Released'].fillna(df['Last Updated'])\n",
    "\n",
    "# fill missing values with n/a\n",
    "df['Developer Id'] = df['Developer Id'].fillna(\"N/A\")\n",
    "\n",
    "# Create a flag column to mark imputed values\n",
    "df['max_inst_miss'] = df['Minimum Installs'].isna().astype(int)\n",
    "# FILL the minimum with maximum installs when missing\n",
    "df['Minimum Installs'] = df['Minimum Installs'].fillna(df['Maximum Installs'])\n",
    "\n",
    "# filling missing currencies by n/a\n",
    "df['Currency'] = df['Currency'].fillna('N/A')\n",
    "\n",
    "df.isnull().sum()"
   ]
  },
  {
   "cell_type": "markdown",
   "id": "8a105488-ddf3-4347-b921-fcc7bd993fd9",
   "metadata": {},
   "source": [
    "## *Handling Missing values*"
   ]
  },
  {
   "cell_type": "code",
   "execution_count": 94,
   "id": "1d667e7e-54fc-4ecc-8365-6c538c735c05",
   "metadata": {},
   "outputs": [
    {
     "data": {
      "text/plain": [
       "App Name                  0\n",
       "App Id                    0\n",
       "Category                  0\n",
       "Rating                    0\n",
       "Rating Count          22883\n",
       "Installs                107\n",
       "Minimum Installs          0\n",
       "Maximum Installs          0\n",
       "Free                      0\n",
       "Price                     0\n",
       "Currency                  0\n",
       "Size                    196\n",
       "Minimum Android        6530\n",
       "Developer Id              0\n",
       "Developer Website    760831\n",
       "Developer Email          31\n",
       "Released                  0\n",
       "Last Updated              0\n",
       "Content Rating            0\n",
       "Privacy Policy       420950\n",
       "Ad Supported              0\n",
       "In App Purchases          0\n",
       "Editors Choice            0\n",
       "Scraped Time              0\n",
       "Released_missing          0\n",
       "max_inst_miss             0\n",
       "dtype: int64"
      ]
     },
     "execution_count": 94,
     "metadata": {},
     "output_type": "execute_result"
    }
   ],
   "source": [
    "df.isnull().sum()\n",
    "\n",
    "# Drop rows where App Name is missing\n",
    "df = df.dropna(subset=['App Name'])\n",
    "\n",
    "# then check if it really drop it \n",
    "df.isnull().sum() \n",
    "\n",
    "# Fill missing ratings with the median rating of each Category\n",
    "df['Rating'] = df.groupby('Category')['Rating'].transform(lambda x: x.fillna(x.median()))\n",
    "\n",
    "# Create a flag column to mark imputed values\n",
    "df['Released_missing'] = df['Released'].isna().astype(int)\n",
    "# Fill Released with Last Updated when missing\n",
    "df['Released'] = df['Released'].fillna(df['Last Updated'])\n",
    "\n",
    "# fill missing values with n/a\n",
    "df['Developer Id'] = df['Developer Id'].fillna(\"N/A\")\n",
    "\n",
    "# Create a flag column to mark imputed values\n",
    "df['max_inst_miss'] = df['Minimum Installs'].isna().astype(int)\n",
    "# FILL the minimum with maximum installs when missing\n",
    "df['Minimum Installs'] = df['Minimum Installs'].fillna(df['Maximum Installs'])\n",
    "\n",
    "# filling missing currencies by n/a\n",
    "df['Currency'] = df['Currency'].fillna('N/A')\n",
    "\n",
    "df.isnull().sum()"
   ]
  },
  {
   "cell_type": "markdown",
   "id": "808da27f-9e6e-408d-8c00-a0ef1b379b5e",
   "metadata": {},
   "source": [
    "## *Drop unusefull columns*"
   ]
  },
  {
   "cell_type": "code",
   "execution_count": 95,
   "id": "db714fed-93df-4062-83b0-e5942197f019",
   "metadata": {},
   "outputs": [],
   "source": [
    "df = df.drop(['Developer Website', 'Developer Email', 'Privacy Policy', 'Scraped Time',  'App Id'] , axis =1 , errors = 'ignore') \n",
    "df = df.drop(['Installs' , 'Rating Count', 'Minimum Android'], axis = 1, errors = 'ignore')"
   ]
  },
  {
   "cell_type": "markdown",
   "id": "9bce6325-fee6-4e93-b839-4c9c09b77719",
   "metadata": {},
   "source": [
    "## *Data Normalization*"
   ]
  },
  {
   "cell_type": "code",
   "execution_count": 96,
   "id": "3c9e97c2-3fb8-4767-aa89-435e27400150",
   "metadata": {},
   "outputs": [],
   "source": [
    "#replace the megabyte and kilobyte by numeric values\n",
    "\n",
    "# Removing spaces and commas\n",
    "df[\"Size\"] = df[\"Size\"].astype(str).str.replace(\",\", \"\").str.replace(\" \", \"\")\n",
    "\n",
    "# Converting K/M to numeric safely\n",
    "def convert_size(value):\n",
    "    try:\n",
    "        val = str(value).strip()\n",
    "        if val.lower() in {\"Varies with device\", \"na\", \"n/a\", \"\"}:\n",
    "            return np.nan\n",
    "        if val[-1].lower() == \"m\":\n",
    "            return float(val[:-1]) * 1000  \n",
    "        elif val[-1].lower() == \"k\":\n",
    "            return float(val[:-1])          \n",
    "        else:\n",
    "            return float(val)               \n",
    "    except:\n",
    "        return np.nan\n",
    "\n",
    "df[\"Size_kb\"] = df[\"Size\"].apply(convert_size)\n",
    "\n",
    "# drop Size variable\n",
    "df = df.drop(['Size'], axis = 1 , errors = 'ignore')\n",
    "\n",
    "# transform the boolean to int : 1 = TRUE , 0 = FALSE => 1 = free , 0 = paid \n",
    "df['Free'] = df['Free'].astype(int) \n",
    "df['Ad Supported'] = df['Ad Supported'].astype(int) \n",
    "df['In App Purchases'] = df['In App Purchases'].astype(int) \n",
    "df['Editors Choice'] = df['Editors Choice'].astype(int) "
   ]
  },
  {
   "cell_type": "markdown",
   "id": "b8d9134b-9fca-4c7c-847a-d0781c3bb71a",
   "metadata": {},
   "source": [
    "## *Drop unusefull columns*"
   ]
  },
  {
   "cell_type": "code",
   "execution_count": 139,
   "id": "7eac7459-c45c-4fbc-a327-176b6793919d",
   "metadata": {},
   "outputs": [],
   "source": [
    "df = df.drop(['Developer Website', 'Developer Email', 'Privacy Policy', 'Scraped Time',  'App Id'] , axis =1 , errors = 'ignore') \n",
    "df = df.drop(['Installs' , 'Rating Count', 'Minimum Android'], axis = 1, errors = 'ignore')"
   ]
  },
  {
   "cell_type": "markdown",
   "id": "d37f9ec3-00cd-4bf9-8d04-96ff642565bb",
   "metadata": {},
   "source": [
    "## *Data Normalization*"
   ]
  },
  {
   "cell_type": "code",
   "execution_count": 140,
   "id": "4c50a6d4-6fe0-4513-afa9-64b8ad509daf",
   "metadata": {},
   "outputs": [],
   "source": [
    "#replace the megabyte and kilobyte by numeric values\n",
    "\n",
    "# Removing spaces and commas\n",
    "df[\"Size\"] = df[\"Size\"].astype(str).str.replace(\",\", \"\").str.replace(\" \", \"\")\n",
    "\n",
    "# Converting K/M to numeric safely\n",
    "def convert_size(value):\n",
    "    try:\n",
    "        val = str(value).strip()\n",
    "        if val.lower() in {\"Varies with device\", \"na\", \"n/a\", \"\"}:\n",
    "            return np.nan\n",
    "        if val[-1].lower() == \"m\":\n",
    "            return float(val[:-1]) * 1000  \n",
    "        elif val[-1].lower() == \"k\":\n",
    "            return float(val[:-1])          \n",
    "        else:\n",
    "            return float(val)               \n",
    "    except:\n",
    "        return np.nan\n",
    "\n",
    "df[\"Size_kb\"] = df[\"Size\"].apply(convert_size)\n",
    "\n",
    "# drop Size variable\n",
    "df = df.drop(['Size'], axis = 1 , errors = 'ignore')\n",
    "\n",
    "# transform the boolean to int : 1 = TRUE , 0 = FALSE => 1 = free , 0 = paid \n",
    "df['Free'] = df['Free'].astype(int) \n",
    "df['Ad Supported'] = df['Ad Supported'].astype(int) \n",
    "df['In App Purchases'] = df['In App Purchases'].astype(int) \n",
    "df['Editors Choice'] = df['Editors Choice'].astype(int) "
   ]
  },
  {
   "cell_type": "markdown",
   "id": "46b3d07c-003d-468e-9d04-bcdf77f9ee61",
   "metadata": {},
   "source": [
    "## *Creating Derived Columns*"
   ]
  },
  {
   "cell_type": "code",
   "execution_count": 141,
   "id": "1741783e-930f-4dec-adb2-d91545cc80ed",
   "metadata": {},
   "outputs": [],
   "source": [
    "# the mean of the installs\n",
    "df['avg_installs'] = (df['Minimum Installs'] + df['Maximum Installs']) / 2\n",
    "df['avg_installs'] = df['avg_installs'].round(0)\n",
    "\n",
    "#the year of releasing the app\n",
    "df['Released'] = pd.to_datetime(df['Released'], errors='coerce')\n",
    "df['released_year'] = df['Released'].dt.year"
   ]
  },
  {
   "cell_type": "markdown",
   "id": "b337d5e8-0ccc-4f46-92a5-49c3c35bc958",
   "metadata": {},
   "source": [
    "# *Renaming Columns*"
   ]
  },
  {
   "cell_type": "code",
   "execution_count": 142,
   "id": "8815dd6b-e74b-4752-9e78-9bfada0dd301",
   "metadata": {},
   "outputs": [],
   "source": [
    "# using snake case for the columns names\n",
    "\n",
    "df = df.rename(columns={\n",
    "    \"App Name\" : \"app_name\",\n",
    "    'Category' : 'category',\n",
    "    \"Rating\": \"rating\",\n",
    "    \"Free\" : \"app_status\",\n",
    "    'Currency' : 'currency',\n",
    "    'Developer Id' : 'developer_name',\n",
    "    'Released' : 'released_date',\n",
    "    'Last Updated' : 'last_update',\n",
    "    'Content Rating' : 'content_target',\n",
    "    'Ad Supported' : 'ads_flag',\n",
    "    'In App Purchases' : 'in_app_purchases_flag',\n",
    "    'Editors Choice' : 'play_store_recommend',\n",
    "    'Size_kb' : 'size'\n",
    "})"
   ]
  },
  {
   "cell_type": "markdown",
   "id": "6da7dd34-bd35-4d85-9ca0-5745f1138c3c",
   "metadata": {},
   "source": [
    "# *Drop Duplicates*"
   ]
  },
  {
   "cell_type": "code",
   "execution_count": 143,
   "id": "6d2a1773-3279-4ca8-9ced-a9827e903b27",
   "metadata": {},
   "outputs": [
    {
     "name": "stdout",
     "output_type": "stream",
     "text": [
      "                                app_name           category  rating  \\\n",
      "2377            Bhagavad Gita in English  Books & Reference     0.0   \n",
      "2562                             Mancala              Board     4.3   \n",
      "3339                             Gallery              Tools     4.5   \n",
      "4642                      Age Calculator       Productivity     4.5   \n",
      "4771                Vacuum Cleaner Sound      Music & Audio     0.0   \n",
      "...                                  ...                ...     ...   \n",
      "2312930                              PAX     Travel & Local     3.3   \n",
      "2312934  Vietnamese - English Translator          Education     0.0   \n",
      "2312935                 Floral Wallpaper    Personalization     0.0   \n",
      "2312941                   Data Structure          Education     0.0   \n",
      "2312942                      Devi Suktam      Music & Audio     3.5   \n",
      "\n",
      "         Minimum Installs  Maximum Installs  app_status  Price currency  \\\n",
      "2377                 50.0                51           1   0.00      XXX   \n",
      "2562             100000.0            147049           1   0.00      USD   \n",
      "3339             100000.0            173245           1   0.00      USD   \n",
      "4642              10000.0             11228           1   0.00      USD   \n",
      "4771                 10.0                26           0   2.49      USD   \n",
      "...                   ...               ...         ...    ...      ...   \n",
      "2312930             100.0               388           1   0.00      USD   \n",
      "2312934               5.0                 6           1   0.00      USD   \n",
      "2312935            1000.0              1302           1   0.00      USD   \n",
      "2312941             100.0               202           1   0.00      USD   \n",
      "2312942            1000.0              2635           1   0.00      USD   \n",
      "\n",
      "                                developer_name released_date   last_update  \\\n",
      "2377                           Cipher SoftTech    2020-12-25  Dec 25, 2020   \n",
      "2562                     Mancala & Oware Games    2019-11-22  Jul 24, 2020   \n",
      "3339     Photo gallery and Simple gallery lite    2021-01-02  Jun 07, 2021   \n",
      "4642                               NSTechFrame    2015-01-02  Feb 12, 2015   \n",
      "4771            Animated Oak Entertainment Ltd    2016-01-11  Jan 11, 2016   \n",
      "...                                        ...           ...           ...   \n",
      "2312930                   Apreciasoft Software    2019-09-02  Nov 26, 2020   \n",
      "2312934                        Eliminates Apps    2020-06-15  Aug 31, 2020   \n",
      "2312935                                 arfdev    2018-07-19  Nov 13, 2019   \n",
      "2312941                              appoworld    2018-08-19  Aug 19, 2018   \n",
      "2312942                                 Bhakti    2016-08-01  May 05, 2021   \n",
      "\n",
      "        content_target  ads_flag  in_app_purchases_flag  play_store_recommend  \\\n",
      "2377          Everyone         1                      0                     0   \n",
      "2562          Everyone         1                      0                     0   \n",
      "3339          Everyone         1                      0                     0   \n",
      "4642          Everyone         0                      0                     0   \n",
      "4771          Everyone         0                      0                     0   \n",
      "...                ...       ...                    ...                   ...   \n",
      "2312930       Everyone         0                      0                     0   \n",
      "2312934       Everyone         1                      0                     0   \n",
      "2312935       Everyone         1                      0                     0   \n",
      "2312941       Everyone         0                      0                     0   \n",
      "2312942       Everyone         1                      0                     0   \n",
      "\n",
      "         Released_missing  max_inst_miss     size  avg_installs  released_year  \n",
      "2377                    0              0   9900.0          50.0           2020  \n",
      "2562                    0              0  22000.0      123524.0           2019  \n",
      "3339                    0              0   6900.0      136622.0           2021  \n",
      "4642                    0              0    629.0       10614.0           2015  \n",
      "4771                    0              0   2300.0          18.0           2016  \n",
      "...                   ...            ...      ...           ...            ...  \n",
      "2312930                 0              0  22000.0         244.0           2019  \n",
      "2312934                 0              0   3600.0           6.0           2020  \n",
      "2312935                 0              0  29000.0        1151.0           2018  \n",
      "2312941                 0              0  29000.0         151.0           2018  \n",
      "2312942                 0              0  10000.0        1818.0           2016  \n",
      "\n",
      "[134996 rows x 20 columns]\n",
      "\n",
      " nb of duplicates : 134996 \n",
      "\n",
      " nb of duplicates : 0 \n"
     ]
    }
   ],
   "source": [
    "# Detect duplicates\n",
    "duplicates = df.duplicated(['app_name'])\n",
    "print(df[duplicates])\n",
    "\n",
    "# Count duplicates \n",
    "duplicate_count = df.duplicated(['app_name']).sum()\n",
    "print(f\"\\n nb of duplicates : {duplicate_count} \" )\n",
    "\n",
    "# drop duplicates\n",
    "df = df.drop_duplicates(['app_name'], keep = 'first')\n",
    "\n",
    "#check the quality after drop duplicates \n",
    "duplicate_count = df.duplicated(['app_name']).sum()\n",
    "print(f\"\\n nb of duplicates : {duplicate_count} \")\n"
   ]
  },
  {
   "cell_type": "markdown",
   "id": "2d02123d-8743-4181-b4a2-7786ee7b1792",
   "metadata": {},
   "source": [
    "# *Handiling Unwated spaces*"
   ]
  },
  {
   "cell_type": "code",
   "execution_count": 144,
   "id": "93ccbc4c-7f21-411a-854e-fbe318e9e5fc",
   "metadata": {},
   "outputs": [],
   "source": [
    "# Remove leading and trailing spaces\n",
    "df['app_name'] = df['app_name'].str.strip()"
   ]
  },
  {
   "cell_type": "markdown",
   "id": "314585f9-d1cc-4e8d-a29d-7c4046011a06",
   "metadata": {},
   "source": [
    "# *loading (save) the dataset as a new format*\n",
    "\n"
   ]
  },
  {
   "cell_type": "code",
   "execution_count": 145,
   "id": "9bf4b8ed-fc79-4894-8bb4-c0d07a554c85",
   "metadata": {},
   "outputs": [
    {
     "name": "stdout",
     "output_type": "stream",
     "text": [
      "\n",
      "Cleaned data saved to 'cleaned_data.csv'\n"
     ]
    }
   ],
   "source": [
    "# save the dataset after transformation \n",
    "\n",
    "df.to_csv(r'C:\\Users\\A\\Desktop\\playstore_app_market_insights\\Database\\Cleaned_data.csv')\n",
    "\n",
    "print(\"\\nCleaned data saved to 'cleaned_data.csv'\")\n"
   ]
  },
  {
   "cell_type": "markdown",
   "id": "ff9d4b2e-0efe-4fc5-be62-61d1b171ba43",
   "metadata": {},
   "source": [
    "After cleaning and transforming, the dataset is ready for analysis. Below is a preview:"
   ]
  },
  {
   "cell_type": "code",
   "execution_count": 146,
   "id": "cd8af157-bd3c-450b-9f15-ecb659d38cb0",
   "metadata": {},
   "outputs": [
    {
     "name": "stdout",
     "output_type": "stream",
     "text": [
      "Shape of dataset: (2177943, 20)\n"
     ]
    },
    {
     "data": {
      "text/html": [
       "<div>\n",
       "<style scoped>\n",
       "    .dataframe tbody tr th:only-of-type {\n",
       "        vertical-align: middle;\n",
       "    }\n",
       "\n",
       "    .dataframe tbody tr th {\n",
       "        vertical-align: top;\n",
       "    }\n",
       "\n",
       "    .dataframe thead th {\n",
       "        text-align: right;\n",
       "    }\n",
       "</style>\n",
       "<table border=\"1\" class=\"dataframe\">\n",
       "  <thead>\n",
       "    <tr style=\"text-align: right;\">\n",
       "      <th></th>\n",
       "      <th>app_name</th>\n",
       "      <th>category</th>\n",
       "      <th>rating</th>\n",
       "      <th>Minimum Installs</th>\n",
       "      <th>Maximum Installs</th>\n",
       "      <th>app_status</th>\n",
       "      <th>Price</th>\n",
       "      <th>currency</th>\n",
       "      <th>developer_name</th>\n",
       "      <th>released_date</th>\n",
       "      <th>last_update</th>\n",
       "      <th>content_target</th>\n",
       "      <th>ads_flag</th>\n",
       "      <th>in_app_purchases_flag</th>\n",
       "      <th>play_store_recommend</th>\n",
       "      <th>Released_missing</th>\n",
       "      <th>max_inst_miss</th>\n",
       "      <th>size</th>\n",
       "      <th>avg_installs</th>\n",
       "      <th>released_year</th>\n",
       "    </tr>\n",
       "  </thead>\n",
       "  <tbody>\n",
       "    <tr>\n",
       "      <th>0</th>\n",
       "      <td>Gakondo</td>\n",
       "      <td>Adventure</td>\n",
       "      <td>0.0</td>\n",
       "      <td>10.0</td>\n",
       "      <td>15</td>\n",
       "      <td>1</td>\n",
       "      <td>0.0</td>\n",
       "      <td>USD</td>\n",
       "      <td>Jean Confident Irénée NIYIZIBYOSE</td>\n",
       "      <td>2020-02-26</td>\n",
       "      <td>Feb 26, 2020</td>\n",
       "      <td>Everyone</td>\n",
       "      <td>0</td>\n",
       "      <td>0</td>\n",
       "      <td>0</td>\n",
       "      <td>0</td>\n",
       "      <td>0</td>\n",
       "      <td>10000.0</td>\n",
       "      <td>12.0</td>\n",
       "      <td>2020</td>\n",
       "    </tr>\n",
       "    <tr>\n",
       "      <th>1</th>\n",
       "      <td>Ampere Battery Info</td>\n",
       "      <td>Tools</td>\n",
       "      <td>4.4</td>\n",
       "      <td>5000.0</td>\n",
       "      <td>7662</td>\n",
       "      <td>1</td>\n",
       "      <td>0.0</td>\n",
       "      <td>USD</td>\n",
       "      <td>Webserveis</td>\n",
       "      <td>2020-05-21</td>\n",
       "      <td>May 06, 2021</td>\n",
       "      <td>Everyone</td>\n",
       "      <td>1</td>\n",
       "      <td>0</td>\n",
       "      <td>0</td>\n",
       "      <td>0</td>\n",
       "      <td>0</td>\n",
       "      <td>2900.0</td>\n",
       "      <td>6331.0</td>\n",
       "      <td>2020</td>\n",
       "    </tr>\n",
       "    <tr>\n",
       "      <th>2</th>\n",
       "      <td>Vibook</td>\n",
       "      <td>Productivity</td>\n",
       "      <td>0.0</td>\n",
       "      <td>50.0</td>\n",
       "      <td>58</td>\n",
       "      <td>1</td>\n",
       "      <td>0.0</td>\n",
       "      <td>USD</td>\n",
       "      <td>Cabin Crew</td>\n",
       "      <td>2019-08-09</td>\n",
       "      <td>Aug 19, 2019</td>\n",
       "      <td>Everyone</td>\n",
       "      <td>0</td>\n",
       "      <td>0</td>\n",
       "      <td>0</td>\n",
       "      <td>0</td>\n",
       "      <td>0</td>\n",
       "      <td>3700.0</td>\n",
       "      <td>54.0</td>\n",
       "      <td>2019</td>\n",
       "    </tr>\n",
       "    <tr>\n",
       "      <th>3</th>\n",
       "      <td>Smart City Trichy Public Service Vehicles 17UC...</td>\n",
       "      <td>Communication</td>\n",
       "      <td>5.0</td>\n",
       "      <td>10.0</td>\n",
       "      <td>19</td>\n",
       "      <td>1</td>\n",
       "      <td>0.0</td>\n",
       "      <td>USD</td>\n",
       "      <td>Climate Smart Tech2</td>\n",
       "      <td>2018-09-10</td>\n",
       "      <td>Oct 13, 2018</td>\n",
       "      <td>Everyone</td>\n",
       "      <td>1</td>\n",
       "      <td>0</td>\n",
       "      <td>0</td>\n",
       "      <td>0</td>\n",
       "      <td>0</td>\n",
       "      <td>1800.0</td>\n",
       "      <td>14.0</td>\n",
       "      <td>2018</td>\n",
       "    </tr>\n",
       "    <tr>\n",
       "      <th>4</th>\n",
       "      <td>GROW.me</td>\n",
       "      <td>Tools</td>\n",
       "      <td>0.0</td>\n",
       "      <td>100.0</td>\n",
       "      <td>478</td>\n",
       "      <td>1</td>\n",
       "      <td>0.0</td>\n",
       "      <td>USD</td>\n",
       "      <td>Rafal Milek-Horodyski</td>\n",
       "      <td>2020-02-21</td>\n",
       "      <td>Nov 12, 2018</td>\n",
       "      <td>Everyone</td>\n",
       "      <td>0</td>\n",
       "      <td>0</td>\n",
       "      <td>0</td>\n",
       "      <td>0</td>\n",
       "      <td>0</td>\n",
       "      <td>6200.0</td>\n",
       "      <td>289.0</td>\n",
       "      <td>2020</td>\n",
       "    </tr>\n",
       "  </tbody>\n",
       "</table>\n",
       "</div>"
      ],
      "text/plain": [
       "                                            app_name       category  rating  \\\n",
       "0                                            Gakondo      Adventure     0.0   \n",
       "1                                Ampere Battery Info          Tools     4.4   \n",
       "2                                             Vibook   Productivity     0.0   \n",
       "3  Smart City Trichy Public Service Vehicles 17UC...  Communication     5.0   \n",
       "4                                            GROW.me          Tools     0.0   \n",
       "\n",
       "   Minimum Installs  Maximum Installs  app_status  Price currency  \\\n",
       "0              10.0                15           1    0.0      USD   \n",
       "1            5000.0              7662           1    0.0      USD   \n",
       "2              50.0                58           1    0.0      USD   \n",
       "3              10.0                19           1    0.0      USD   \n",
       "4             100.0               478           1    0.0      USD   \n",
       "\n",
       "                      developer_name released_date   last_update  \\\n",
       "0  Jean Confident Irénée NIYIZIBYOSE    2020-02-26  Feb 26, 2020   \n",
       "1                         Webserveis    2020-05-21  May 06, 2021   \n",
       "2                         Cabin Crew    2019-08-09  Aug 19, 2019   \n",
       "3                Climate Smart Tech2    2018-09-10  Oct 13, 2018   \n",
       "4              Rafal Milek-Horodyski    2020-02-21  Nov 12, 2018   \n",
       "\n",
       "  content_target  ads_flag  in_app_purchases_flag  play_store_recommend  \\\n",
       "0       Everyone         0                      0                     0   \n",
       "1       Everyone         1                      0                     0   \n",
       "2       Everyone         0                      0                     0   \n",
       "3       Everyone         1                      0                     0   \n",
       "4       Everyone         0                      0                     0   \n",
       "\n",
       "   Released_missing  max_inst_miss     size  avg_installs  released_year  \n",
       "0                 0              0  10000.0          12.0           2020  \n",
       "1                 0              0   2900.0        6331.0           2020  \n",
       "2                 0              0   3700.0          54.0           2019  \n",
       "3                 0              0   1800.0          14.0           2018  \n",
       "4                 0              0   6200.0         289.0           2020  "
      ]
     },
     "execution_count": 146,
     "metadata": {},
     "output_type": "execute_result"
    }
   ],
   "source": [
    "print(\"Shape of dataset:\", df.shape)\n",
    "df.head()"
   ]
  },
  {
   "cell_type": "markdown",
   "id": "beb7c779-5e83-4973-864d-c6654e22b668",
   "metadata": {},
   "source": [
    "\n",
    "--- \n",
    "\n",
    "# **Exploratory Data Analysis (EDA)**\n",
    "\n"
   ]
  },
  {
   "cell_type": "markdown",
   "id": "df87db40-e3b8-4de3-b596-f124d0b9b386",
   "metadata": {},
   "source": [
    "I - How many apps exist in total? and  What are the top categories?"
   ]
  },
  {
   "cell_type": "code",
   "execution_count": 147,
   "id": "6651e1a9-8609-4042-a7b6-7a885ddd20e6",
   "metadata": {},
   "outputs": [
    {
     "name": "stdout",
     "output_type": "stream",
     "text": [
      "\n",
      "The number of apps is equal to : 2177943\n",
      "\n",
      "The number of apps by category : category\n",
      "Education            227982\n",
      "Music & Audio        145619\n",
      "Business             140381\n",
      "Tools                131878\n",
      "Entertainment        128554\n",
      "Lifestyle            111836\n",
      "Books & Reference    107601\n",
      "Health & Fitness      79807\n",
      "Personalization       76996\n",
      "Productivity          75388\n",
      "Name: count, dtype: int64\n"
     ]
    },
    {
     "data": {
      "image/png": "[encoded data removed]",
      "text/plain": [
       "<Figure size 1000x600 with 1 Axes>"
      ]
     },
     "metadata": {},
     "output_type": "display_data"
    }
   ],
   "source": [
    "#total app number\n",
    "total_apps = len(df)\n",
    "print(f'\\nThe number of apps is equal to : {total_apps}')\n",
    "\n",
    "#category\n",
    "cat = df['category'].value_counts().head(10)\n",
    "print(f\"\\nThe number of apps by category : {cat}\")\n",
    "\n",
    "#plot\n",
    "plt.figure(figsize=(10,6))\n",
    "cat.plot(kind='bar', color='skyblue', edgecolor='black')\n",
    "plt.xlabel(\"Category\")\n",
    "plt.ylabel(\"Number of Apps\")\n",
    "plt.title(\"Top 10 Categories by Number of Apps\")\n",
    "plt.xticks(rotation=45, ha='right')  \n",
    "plt.show()\n"
   ]
  },
  {
   "cell_type": "markdown",
   "id": "cea6dd61-c479-439f-b9f8-f5d571578396",
   "metadata": {},
   "source": [
    "The dataset contains a total of 2,177,943 apps.\n",
    "\n",
    "Among them, the Education category represents the largest share with nearly 228,000 apps, followed by Music & Audio (145k), Business (140k), Tools (132k), and Entertainment (129k).\n",
    "This indicates that Education is a highly represented category on the Play Store, making it a key area for deeper analysis in the context of Xpertbot.\n"
   ]
  },
  {
   "cell_type": "markdown",
   "id": "e425049b-47bd-41aa-b119-7efee292ca20",
   "metadata": {},
   "source": [
    "II - Free vs Paid apps"
   ]
  },
  {
   "cell_type": "code",
   "execution_count": 148,
   "id": "259776fc-8286-4467-a6cd-b56efb97ca73",
   "metadata": {},
   "outputs": [
    {
     "name": "stdout",
     "output_type": "stream",
     "text": [
      "The distribution of the Free and paid apps is the following : \n",
      "app_status\n",
      "Free    2134252\n",
      "Paid      43691\n",
      "Name: count, dtype: int64\n",
      "\n",
      "The precentage of the Free and paid apps is the following :\n",
      "app_status\n",
      "Free    97.993933\n",
      "Paid     2.006067\n",
      "Name: proportion, dtype: float64\n"
     ]
    },
    {
     "data": {
      "image/png": "[encoded data removed]",
      "text/plain": [
       "<Figure size 600x600 with 1 Axes>"
      ]
     },
     "metadata": {},
     "output_type": "display_data"
    }
   ],
   "source": [
    "# Free vs paid app distribution\n",
    "counts = df['app_status'].map({1: 'Free', 0: 'Paid'}).value_counts()\n",
    "free_paid_percent = df['app_status'].map({1: 'Free', 0: 'Paid'}).value_counts(normalize=True) * 100\n",
    "print(f\"The distribution of the Free and paid apps is the following : \")\n",
    "print(counts)\n",
    "print(f\"\\nThe precentage of the Free and paid apps is the following :\")\n",
    "print(free_paid_percent)\n",
    "\n",
    "#bar chart \n",
    "plt.figure(figsize=(6,6))\n",
    "plt.pie(counts, \n",
    "        labels=counts.index,  # now shows 'Free' and 'Paid'\n",
    "        autopct='%1.1f%%',  \n",
    "        colors=['skyblue', 'salmon'], \n",
    "        startangle=90, \n",
    "        shadow=True)\n",
    "plt.title(\"Free vs Paid Apps Distribution\")\n",
    "plt.show()"
   ]
  },
  {
   "cell_type": "markdown",
   "id": "fade8a3e-1086-436c-8c5d-be9244500015",
   "metadata": {},
   "source": [
    "The vast majority of apps on the Play Store are free (≈98%), while only about 2% are paid.  \n",
    "This highlights that the market is largely dominated by free apps, with monetization often relying on in-app purchases or ads rather than upfront payment.\n"
   ]
  },
  {
   "cell_type": "markdown",
   "id": "d49b1f22-3d8a-4ee6-9dd4-b39b1a967a34",
   "metadata": {},
   "source": [
    "III - Ratings distribution"
   ]
  },
  {
   "cell_type": "code",
   "execution_count": 149,
   "id": "014d59d6-e1d9-4d0b-9c5d-abfb8e70cf3b",
   "metadata": {},
   "outputs": [
    {
     "name": "stdout",
     "output_type": "stream",
     "text": [
      "Number of unrated apps: 1008810\n",
      "rating\n",
      "1.0      690\n",
      "1.1      226\n",
      "1.2      518\n",
      "1.3      563\n",
      "1.4      975\n",
      "1.5     1130\n",
      "1.6     1592\n",
      "1.7     1873\n",
      "1.8     2880\n",
      "1.9     2503\n",
      "2.0     3649\n",
      "2.1     3684\n",
      "2.2     4778\n",
      "2.3     5224\n",
      "2.4     6123\n",
      "2.5     7255\n",
      "2.6     8800\n",
      "2.7     8803\n",
      "2.8    11680\n",
      "2.9    10977\n",
      "3.0    18334\n",
      "3.1    14828\n",
      "3.2    22265\n",
      "3.3    22596\n",
      "3.4    28639\n",
      "3.5    32739\n",
      "3.6    34330\n",
      "3.7    41590\n",
      "3.8    51916\n",
      "3.9    53105\n",
      "4.0    63138\n",
      "4.1    64794\n",
      "4.2    81496\n",
      "4.3    77099\n",
      "4.4    79931\n",
      "4.5    71327\n",
      "4.6    73195\n",
      "4.7    58512\n",
      "4.8    57877\n",
      "4.9    42320\n",
      "5.0    95179\n",
      "Name: count, dtype: int64\n"
     ]
    },
    {
     "data": {
      "image/png": "[encoded data removed]",
      "text/plain": [
       "<Figure size 640x480 with 1 Axes>"
      ]
     },
     "metadata": {},
     "output_type": "display_data"
    }
   ],
   "source": [
    "#Unrated applications:\n",
    "unrated_count = (df['rating'] == 0.0).sum()\n",
    "print(\"Number of unrated apps:\", unrated_count)\n",
    "\n",
    "# frequency of the ratings by app\n",
    "rating_counts = df.loc[df['rating']!= 0, 'rating'].value_counts().sort_index()\n",
    "print(rating_counts)\n",
    "\n",
    "\n",
    "# App rating distribution\n",
    "\n",
    "sns.barplot(x=rating_counts.index, y=rating_counts.values, color=\"skyblue\")\n",
    "plt.xlabel(\"Rating\")\n",
    "plt.ylabel(\"Number of Apps\")\n",
    "plt.title(\"App Rating Distribution\")\n",
    "plt.xticks([]) \n",
    "plt.show()"
   ]
  },
  {
   "cell_type": "markdown",
   "id": "3b83c8e7-17dc-42da-8d97-b850b997d60e",
   "metadata": {},
   "source": [
    "*Most apps cluster around 3-4 stars, while unrated apps are common.*"
   ]
  },
  {
   "cell_type": "markdown",
   "id": "9b8aaa6f-7edb-4c68-97a4-3526787023a7",
   "metadata": {},
   "source": [
    "IV - Installs distribution"
   ]
  },
  {
   "cell_type": "code",
   "execution_count": 150,
   "id": "c1790306-72f5-4a9c-9891-b13a96e9a549",
   "metadata": {},
   "outputs": [
    {
     "name": "stdout",
     "output_type": "stream",
     "text": [
      "category\n",
      "Video Players & Editors    1794695.0\n",
      "Racing                     1214132.0\n",
      "Communication              1190185.0\n",
      "Action                      885593.0\n",
      "Photography                 748200.0\n",
      "Name: avg_installs, dtype: float64\n",
      "                     app_name                 category  avg_installs  \\\n",
      "2155096  Google Play services                    Tools  1.102881e+10   \n",
      "881403                YouTube  Video Players & Editors  7.383115e+09   \n",
      "1773294                Google                    Tools  7.077124e+09   \n",
      "\n",
      "         app_status  \n",
      "2155096           1  \n",
      "881403            1  \n",
      "1773294           1  \n",
      "                                app_name      category  avg_installs  \\\n",
      "2141064               dofty.Example1_dev         Tools           1.0   \n",
      "292938              Simple Ball Runner 2        Arcade           1.0   \n",
      "1256625  Wallpapers Graphic Animals 2020  Art & Design           1.0   \n",
      "\n",
      "         app_status  \n",
      "2141064           1  \n",
      "292938            1  \n",
      "1256625           1  \n"
     ]
    },
    {
     "data": {
      "image/png": "[encoded data removed]",
      "text/plain": [
       "<Figure size 800x600 with 1 Axes>"
      ]
     },
     "metadata": {},
     "output_type": "display_data"
    }
   ],
   "source": [
    "#top 5 categories installed - avg installs per category\n",
    "category_installs = df.groupby('category')['avg_installs'].mean().sort_values(ascending=False).head()\n",
    "category_installs = category_installs.round(0)\n",
    "print(category_installs)\n",
    "\n",
    "# top 5 highest installation\n",
    "top5 = df.sort_values(by='avg_installs', ascending=False).head(3)\n",
    "print(top5[['app_name', 'category', 'avg_installs', 'app_status']])\n",
    "\n",
    "# top 5 less installation\n",
    "df_nonzero = df[df['avg_installs'] != 0]\n",
    "less = df_nonzero.sort_values(by='avg_installs', ascending = True).head(3)\n",
    "print(less[['app_name', 'category', 'avg_installs','app_status']])\n",
    "\n",
    "\n",
    "# Distribution of App installs\n",
    "\n",
    "plt.figure(figsize=(8,6))\n",
    "plt.boxplot(df['avg_installs'], vert=True, patch_artist=True, showfliers=False)  # optionally hide outliers\n",
    "plt.yscale('log')  # log scale for better visualization\n",
    "plt.ylabel(\"Average Installs (log scale)\")\n",
    "plt.title(\"Distribution of App Installs\")\n",
    "plt.show()\n"
   ]
  },
  {
   "cell_type": "markdown",
   "id": "b8e4951f-b59c-4ec9-9377-bc5dadea8b9c",
   "metadata": {},
   "source": [
    "\n",
    " Average installs by category:\n",
    "  The `Video Players & Editors` category has the highest average installs (1.79 million), followed by `Racing` (1.21 million), `Communication` (1.19 million), `Action` (0.89 million), and `Photography` (0.75 million). This suggests that entertainment and communication apps tend to attract more users on average.\n",
    "\n",
    " Top installed apps:\n",
    "  Some individual apps have extremely high average installs, e.g., `Google Play Services` (11 billion), `YouTube` (7.38 billion), and `Google` (7.08 billion). These are essential system or media apps with widespread global usage.\n",
    "\n",
    " Low-install apps: \n",
    "  On the other end, some apps like `dofty.Example1_dev`, `Simple Ball Runner 2`, and `Wallpapers Graphic Animals 2020` have only 1 average install, indicating very low engagement or newly published apps.\n",
    "\n",
    "Overall, this highlights the large variation in app popularity, from a single install to billions of installs.\n"
   ]
  },
  {
   "cell_type": "markdown",
   "id": "3d773e0a-8cda-42ce-9d41-a0b15058e87b",
   "metadata": {},
   "source": [
    "\n",
    "\n"
   ]
  },
  {
   "cell_type": "markdown",
   "id": "b586bb8b-ad11-4e4e-b7da-559922e88e09",
   "metadata": {},
   "source": [
    "V - Play Store recommendations"
   ]
  },
  {
   "cell_type": "code",
   "execution_count": 152,
   "id": "7e6cabb5-8c88-4d37-b584-2deb0923de6d",
   "metadata": {},
   "outputs": [
    {
     "name": "stdout",
     "output_type": "stream",
     "text": [
      "play_store_recommend\n",
      "0    2177106\n",
      "1        837\n",
      "Name: count, dtype: int64\n",
      "play_store_recommend\n",
      "0    99.961569\n",
      "1     0.038431\n",
      "Name: proportion, dtype: float64\n",
      "category\n",
      "Role Playing    79\n",
      "Action          76\n",
      "Puzzle          66\n",
      "Simulation      55\n",
      "Casual          44\n",
      "Name: play_store_recommend, dtype: int32\n"
     ]
    }
   ],
   "source": [
    "#the nb of apps recommended by play store = 1\n",
    "app_recommended = df['play_store_recommend'].value_counts()\n",
    "print(app_recommended)\n",
    "\n",
    "# percentage of these values \n",
    "percent_app = df['play_store_recommend'].value_counts(normalize = True) * 100\n",
    "print(percent_app)\n",
    "\n",
    "# categories that get the most recommendation\n",
    "recom_cat = df.groupby('category')['play_store_recommend'].sum()\n",
    "recom_cat = recom_cat.sort_values(ascending = False).head(5)\n",
    "print(recom_cat)"
   ]
  },
  {
   "cell_type": "markdown",
   "id": "9e8f5621-e878-42ac-b8de-21a3437f3656",
   "metadata": {},
   "source": [
    "### Interpretation of Play Store Recommendation Data\n",
    "\n",
    "Recommendation counts:  \n",
    "  Out of all apps, the vast majority (`2,177,106` apps, ~99.96%) are not recommended, while only a tiny fraction (`837` apps, ~0.04%) are recommended**. This indicates that Play Store recommendations are very selective.\n",
    "\n",
    " Top categories among recommended apps:\n",
    "  The categories with the highest number of recommended apps are:\n",
    "  - `Role Playing` (79 apps)\n",
    "  - `Action` (76 apps)\n",
    "  - `Puzzle` (66 apps)\n",
    "  - `Simulation` (55 apps)\n",
    "  - `Casual` (44 apps)  \n",
    "\n",
    "  This suggests that games, especially role-playing and action games, are more likely to receive Play Store recommendations compared to other app types.\n"
   ]
  },
  {
   "cell_type": "markdown",
   "id": "136a149e-479f-4527-a2ba-dbcabf5a3176",
   "metadata": {},
   "source": [
    "---"
   ]
  },
  {
   "cell_type": "markdown",
   "id": "fe2a8cf5-bda5-4a4e-a2df-400506f9b2f5",
   "metadata": {},
   "source": [
    "\n",
    "\n",
    "# **Deep Dive: Education Apps**\n",
    "\n",
    "*This analysis will now shift towards education-related applications on the Play Store.\n",
    "By exploring their presence, performance, and characteristics, we can gain a clearer understanding of the education app market, identify trends, and highlight opportunities relevant to our work.*"
   ]
  },
  {
   "cell_type": "markdown",
   "id": "09a7656a-ec01-45b5-a912-c3ae43731062",
   "metadata": {},
   "source": [
    "I - How many Education apps are there? \n",
    "\n",
    "*Education is one of the largest categories on the Play Store, with thousands of applications covering language learning, e-learning platforms, and children’s educational games*"
   ]
  },
  {
   "cell_type": "code",
   "execution_count": 153,
   "id": "058e0aa8-6b50-4ae5-af82-4cc3050b8175",
   "metadata": {},
   "outputs": [
    {
     "name": "stdout",
     "output_type": "stream",
     "text": [
      "The number of education apps is : 227982\n"
     ]
    }
   ],
   "source": [
    "Education_count = df[df['category'] == 'Education'].shape[0]\n",
    "print(f\"The number of education apps is : {Education_count}\")"
   ]
  },
  {
   "cell_type": "markdown",
   "id": "c4fa8e4e-84d3-459e-8ce8-3a5159c3a3ad",
   "metadata": {},
   "source": [
    "II - How well do Education apps perform? (Installs & Ratings)\n",
    "\n",
    "*On average, Education apps achieve respectable install counts and maintain strong ratings, suggesting steady demand and user satisfaction*"
   ]
  },
  {
   "cell_type": "code",
   "execution_count": 154,
   "id": "99610d52-7592-423f-b25b-6311284ab22a",
   "metadata": {},
   "outputs": [
    {
     "name": "stdout",
     "output_type": "stream",
     "text": [
      "The average installs of the education apps is : 33801.0\n",
      "\n",
      "The average rating of the education apps is : \n",
      "category\n",
      "Education    4.19\n",
      "Name: rating, dtype: float64\n"
     ]
    }
   ],
   "source": [
    "\n",
    "education_app = df[df['category'] == 'Education']\n",
    "avg_installs = education_app['avg_installs'].mean().round(0)\n",
    "\n",
    "subset_nonzero = education_app[education_app['rating'] != 0]\n",
    "#avg_rating = education_app['rating'].mean().round(2)\n",
    "avg_rating_by_education = subset_nonzero.groupby('category')['rating'].mean().round(2)\n",
    "\n",
    "print(f\"The average installs of the education apps is : {avg_installs}\")\n",
    "print(f\"\\nThe average rating of the education apps is : \")\n",
    "print(avg_rating_by_education)\n"
   ]
  },
  {
   "cell_type": "markdown",
   "id": "42e136a4-1f86-4509-88e6-349cbd5e18f6",
   "metadata": {},
   "source": [
    "III - Are they free or paid?\n",
    "\n"
   ]
  },
  {
   "cell_type": "code",
   "execution_count": 155,
   "id": "f351e030-1bcc-45e4-8244-c5064f46a32b",
   "metadata": {},
   "outputs": [
    {
     "name": "stdout",
     "output_type": "stream",
     "text": [
      "The distribution of the Free and paid education apps is the following : \n",
      "app_status\n",
      "Free    221665\n",
      "Paid      6317\n",
      "Name: count, dtype: int64\n",
      "\n",
      "The precentage of the Free and paid education apps is the following :\n",
      "app_status\n",
      "Free    97.229167\n",
      "Paid     2.770833\n",
      "Name: proportion, dtype: float64 %\n"
     ]
    },
    {
     "data": {
      "image/png": "[encoded data removed]",
      "text/plain": [
       "<Figure size 600x600 with 1 Axes>"
      ]
     },
     "metadata": {},
     "output_type": "display_data"
    }
   ],
   "source": [
    "free_app = education_app['app_status'].map({1: 'Free', 0: 'Paid'}).value_counts()\n",
    "free_app_percentage = education_app['app_status'].map({1: 'Free', 0: 'Paid'}).value_counts(normalize=True) * 100\n",
    "print(f\"The distribution of the Free and paid education apps is the following : \")\n",
    "print(free_app)\n",
    "print(f\"\\nThe precentage of the Free and paid education apps is the following :\")\n",
    "print(f\"{free_app_percentage} %\")\n",
    "\n",
    "# INSERT A PIE CHART OR A BAR CHART \n",
    "\n",
    "# Pie chart\n",
    "plt.figure(figsize=(6,6))\n",
    "plt.pie(free_app, labels=['Free','Paid'], autopct='%1.1f%%', colors=['#66b3ff','#ff9999'], startangle=90)\n",
    "plt.title(\"Distribution of Free vs Paid Education Apps\")\n",
    "plt.show()\n"
   ]
  },
  {
   "cell_type": "markdown",
   "id": "9621bff2-649c-4d4e-a3af-0b51f09e54ea",
   "metadata": {},
   "source": [
    "This shows that the Education category on the Play Store is overwhelmingly dominated by free apps, suggesting that most educational content is accessible without payment."
   ]
  },
  {
   "cell_type": "markdown",
   "id": "24df1019-3809-4618-b1e6-fd4c4faeb3c9",
   "metadata": {},
   "source": [
    "IV - How much do they cost on average?\n",
    "\n",
    "*Among paid Education apps, the average price remains relatively low, indicating accessibility is a key factor for this category.*"
   ]
  },
  {
   "cell_type": "code",
   "execution_count": 156,
   "id": "d21382c2-f667-4c4d-9e1f-9ff06cec710e",
   "metadata": {},
   "outputs": [
    {
     "name": "stdout",
     "output_type": "stream",
     "text": [
      "The average price of paid Education apps is $6.122\n"
     ]
    }
   ],
   "source": [
    "# Filter only paid Education apps\n",
    "paid_education_apps = education_app[education_app['Price'] > 0]\n",
    "\n",
    "# Compute the average price among paid apps\n",
    "avg_paid_price = paid_education_apps['Price'].mean().round(3)\n",
    "print(f'The average price of paid Education apps is ${avg_paid_price}')"
   ]
  },
  {
   "cell_type": "markdown",
   "id": "d16621ce-4b33-42a0-a928-91ae55a8b0db",
   "metadata": {},
   "source": [
    "*Insight:  Although the vast majority of Education apps are free, the paid apps generally cost around $6, reflecting the premium features or specialized content they provide compared to free apps.*"
   ]
  },
  {
   "cell_type": "markdown",
   "id": "6dcf1557-b069-4bf0-ad59-b5d49a8850dc",
   "metadata": {},
   "source": [
    "V - Release trends over time\n",
    "\n",
    "\"The release of Education apps has grown steadily over the past decade, with noticeable peaks during the expansion of e-learning platforms.\""
   ]
  },
  {
   "cell_type": "code",
   "execution_count": 157,
   "id": "c08a85c5-2949-46cf-a362-20f59f8a75db",
   "metadata": {},
   "outputs": [
    {
     "name": "stdout",
     "output_type": "stream",
     "text": [
      "released_year\n",
      "2010      146\n",
      "2011      849\n",
      "2012     2208\n",
      "2013     3950\n",
      "2014     6439\n",
      "2015    10332\n",
      "2016    16033\n",
      "2017    28529\n",
      "2018    36941\n",
      "2019    47710\n",
      "2020    57541\n",
      "2021    17304\n",
      "Name: count, dtype: int64\n"
     ]
    },
    {
     "data": {
      "image/png": "[encoded data removed]",
      "text/plain": [
       "<Figure size 1000x600 with 1 Axes>"
      ]
     },
     "metadata": {},
     "output_type": "display_data"
    }
   ],
   "source": [
    "\n",
    "education_app = df[df['category'] == 'Education']\n",
    "released_edu_app_byy = education_app['released_year'].value_counts().sort_index()\n",
    "print(released_edu_app_byy)\n",
    "\n",
    "#PLOT\n",
    "plt.figure(figsize=(10,6))\n",
    "plt.plot(released_edu_app_byy.index, released_edu_app_byy.values, marker='o', color='skyblue')\n",
    "plt.xlabel(\"Year\")\n",
    "plt.ylabel(\"Number of Education Apps Released\")\n",
    "plt.title(\"Releases of Education Apps Per Year\")\n",
    "plt.xticks(released_edu_app_byy.index, rotation=45)  # rotate years if needed\n",
    "plt.grid(True)\n",
    "plt.show()\n"
   ]
  },
  {
   "cell_type": "markdown",
   "id": "f1eb831f-71eb-43da-85d7-ddf9fede5bfc",
   "metadata": {},
   "source": [
    " *The overall trend shows a growing interest in educational apps over the past decade, with a surge particularly between 2015 and 2020, highlighting the expansion of mobile learning during that period.*\n",
    "\n",
    " "
   ]
  },
  {
   "cell_type": "markdown",
   "id": "314d46f2-efbd-442e-a9d0-343b3e15f65e",
   "metadata": {},
   "source": [
    "VI - Top developers in Education\n",
    "\n",
    "\"A small number of developers dominate the category, each publishing multiple apps, while many others contribute with a smaller number of niche products.\""
   ]
  },
  {
   "cell_type": "code",
   "execution_count": 158,
   "id": "750ae124-62cf-45d5-85d2-faf39465122b",
   "metadata": {},
   "outputs": [
    {
     "name": "stdout",
     "output_type": "stream",
     "text": [
      "developer_name\n",
      "Subsplash Inc             2332\n",
      "Apptegy                   1721\n",
      "TTMA Apps                 1141\n",
      "Education A19-Media        835\n",
      "Education Galaxy Media     771\n",
      "NUPUIT                     767\n",
      "Education Nick Media       723\n",
      "Education Media            713\n",
      "Appeal Qualiserve          689\n",
      "Education Thor Media       667\n",
      "Name: count, dtype: int64\n"
     ]
    },
    {
     "data": {
      "image/png": "[encoded data removed]",
      "text/plain": [
       "<Figure size 800x600 with 1 Axes>"
      ]
     },
     "metadata": {},
     "output_type": "display_data"
    }
   ],
   "source": [
    "#top 10 education app developers by nb of apps\n",
    "\n",
    "education_app = df[df['category'] == 'Education']\n",
    "dev_by_app = education_app['developer_name'].value_counts().head(10)\n",
    "print(dev_by_app)\n",
    "\n",
    "\n",
    "dev_by_app.plot(kind='barh', figsize=(8,6), color='skyblue')\n",
    "plt.xlabel(\"Number of Education Apps\")\n",
    "plt.ylabel(\"Developer\")\n",
    "plt.title(\"Top 10 Education App Developers\")\n",
    "plt.gca().invert_yaxis()  # largest on top\n",
    "plt.show()\n"
   ]
  },
  {
   "cell_type": "markdown",
   "id": "34c40c8a-72d6-4753-8bff-5110b27dddd1",
   "metadata": {},
   "source": [
    "This indicates that a small number of developers dominate the Education category, likely due to app portfolios targeting schools, e-learning platforms, or content libraries. The distribution is highly skewed, with a few prolific developers producing hundreds or thousands of apps, while most other developers release only a handful."
   ]
  },
  {
   "cell_type": "markdown",
   "id": "715f84ef-499e-42ba-a6b4-d0258a31ac5a",
   "metadata": {},
   "source": [
    "VII - In-App Purchases (IAP) and Recommendations\n",
    "\n",
    "\"Interestingly, many Education apps include in-app purchases. While this monetization strategy is common, our analysis explores whether it impacts Play Store recommendations.\""
   ]
  },
  {
   "cell_type": "code",
   "execution_count": 159,
   "id": "b2807a57-87e8-4cfb-8dfb-dded1676ceca",
   "metadata": {},
   "outputs": [
    {
     "name": "stdout",
     "output_type": "stream",
     "text": [
      "The number of apps with purchases features is equal to : \n",
      "in_app_purchases_flag\n",
      "0    1991365\n",
      "1     186578\n",
      "Name: count, dtype: int64\n",
      "\n",
      "The precentage of apps with purchases features is equal to : \n",
      "in_app_purchases_flag\n",
      "0    91.433293\n",
      "1     8.566707\n",
      "Name: proportion, dtype: float64\n",
      "\n",
      "The number of education apps with purchases features is equal to : \n",
      "in_app_purchases_flag\n",
      "0    212855\n",
      "1     15127\n",
      "Name: count, dtype: int64\n",
      "\n",
      "The precentage of education apps with purchases features is equal to : \n",
      "percentage: in_app_purchases_flag\n",
      "0    93.364827\n",
      "1     6.635173\n",
      "Name: proportion, dtype: float64\n",
      "\n",
      "The number of education apps that have recommendations from play store and have IAP : \n",
      "play_store_recommend\n",
      "0    15096\n",
      "1       31\n",
      "Name: in_app_purchases_flag, dtype: int32\n"
     ]
    }
   ],
   "source": [
    "# % of app with and without IAP\n",
    "app_with_iap = df['in_app_purchases_flag'].value_counts()\n",
    "print(f\"The number of apps with purchases features is equal to : \")\n",
    "print(app_with_iap)\n",
    "\n",
    "p_app_with_iap = df['in_app_purchases_flag'].value_counts(normalize = True) * 100\n",
    "print(f\"\\nThe precentage of apps with purchases features is equal to : \")\n",
    "print(p_app_with_iap)\n",
    "\n",
    "# Are Education apps more or less likely to use IAP?\n",
    "education_app = df[df['category'] == 'Education']\n",
    "use_iap = education_app['in_app_purchases_flag'].value_counts()\n",
    "print(f\"\\nThe number of education apps with purchases features is equal to : \")\n",
    "print(use_iap)\n",
    "\n",
    "percentage_use_iap = education_app['in_app_purchases_flag'].value_counts(normalize = True) *100\n",
    "print(f\"\\nThe precentage of education apps with purchases features is equal to : \")\n",
    "print(f'percentage: { percentage_use_iap}')\n",
    "\n",
    "\n",
    "#In Education apps, does having IAP hurt or help chances of being recommended?\n",
    "\n",
    "## the education app that have recommended and has an IAP\n",
    "education_app = df[df['category'] == 'Education']\n",
    "edu_iap = education_app.groupby('play_store_recommend')['in_app_purchases_flag'].sum()\n",
    "print(f'\\nThe number of education apps that have recommendations from play store and have IAP : ')\n",
    "print(edu_iap)\n"
   ]
  },
  {
   "cell_type": "markdown",
   "id": "816d26ff-8f52-4846-92b3-60bb867e5260",
   "metadata": {},
   "source": [
    "*Education apps tend to rely less on in-app monetization compared to the overall app market.*\n",
    "\n",
    "*Education apps are largely free and recommendation on the Play Store is mostly given to apps without IAP, possibly reflecting the preference for fully accessible educational content.*"
   ]
  },
  {
   "cell_type": "markdown",
   "id": "449974b5-86c5-4f6d-877c-d4947265a7ac",
   "metadata": {},
   "source": [
    "**Conclusion**\n",
    "\n",
    "Education apps form a significant and competitive category in the Play Store. They are predominantly free, well-rated, and widely adopted by users, with steady growth over time. The dominance of a few major developers, alongside a long tail of smaller contributors, reflects both opportunities and challenges in this market. For Xpertbot, these insights highlight the importance of maintaining strong ratings, leveraging a freemium model, and ensuring consistent updates to remain competitive in the Education space."
   ]
  },
  {
   "cell_type": "markdown",
   "id": "9873d71f-4ced-472e-9e2e-42682d11d73b",
   "metadata": {},
   "source": [
    "\n",
    "---\n",
    "\n",
    "## **Comparative Insights Across Categories**\n",
    "\n",
    "\n",
    "Beyond Education apps, it is important to compare categories more broadly.\n",
    "\n",
    "By looking at ratings, installs, pricing, and monetization features across different types of apps, we can position Education apps within the larger Play Store ecosystem."
   ]
  },
  {
   "cell_type": "markdown",
   "id": "20db8c24-fea1-4db1-928e-e1ba665cffec",
   "metadata": {},
   "source": [
    "I. Average Ratings by Category\n",
    "\n",
    "Categories like Education and Music tend to achieve higher average ratings compared to Tools or Business, reflecting stronger user satisfaction in entertainment and learning-related apps."
   ]
  },
  {
   "cell_type": "code",
   "execution_count": 160,
   "id": "49de4d66-9f7a-4021-83dc-d8f68c98b070",
   "metadata": {},
   "outputs": [
    {
     "name": "stdout",
     "output_type": "stream",
     "text": [
      "category\n",
      "Music & Audio    4.29\n",
      "Education        4.19\n",
      "Business         4.05\n",
      "Tools            3.89\n",
      "Name: rating, dtype: float64\n"
     ]
    }
   ],
   "source": [
    "#Average rating by category (Education vs Tools vs games)\n",
    "\n",
    "categories_of_interest = ['Education', 'Music & Audio', 'Tools', 'Business']\n",
    "subset = df[df['category'].isin(categories_of_interest)]\n",
    "\n",
    "subset_nonzero = subset[subset['rating'] != 0]\n",
    "\n",
    "avg_rating_by_category = subset_nonzero.groupby('category')['rating'].mean().round(2)\n",
    "avg_rating_by_category = avg_rating_by_category.sort_values(ascending = False)\n",
    "print(avg_rating_by_category)"
   ]
  },
  {
   "cell_type": "markdown",
   "id": "9ddcd6c0-f26f-44fe-a693-f0192b2ad997",
   "metadata": {},
   "source": [
    "Education apps are generally well-rated, with an average of **4.19**, slightly lower than Music & Audio apps but higher than Business and Tools apps. This suggests that users are generally satisfied with Education apps, while Tools apps receive relatively lower ratings, possibly due to functionality or usability issues."
   ]
  },
  {
   "cell_type": "markdown",
   "id": "7a17f36c-6400-448b-9ecb-9a5b41d17213",
   "metadata": {},
   "source": [
    "II - Average Installs by Category\n",
    "\n",
    "While Education apps are well-rated, categories such as Games or Social consistently attract significantly higher installs, highlighting differences between popularity and perceived quality."
   ]
  },
  {
   "cell_type": "code",
   "execution_count": 161,
   "id": "80270de8-a509-4718-a538-c505fe10f89c",
   "metadata": {},
   "outputs": [
    {
     "name": "stdout",
     "output_type": "stream",
     "text": [
      "category\n",
      "Video Players & Editors    1794695.0\n",
      "Racing                     1214132.0\n",
      "Communication              1190185.0\n",
      "Action                      885593.0\n",
      "Photography                 748200.0\n",
      "Strategy                    708757.0\n",
      "Simulation                  682781.0\n",
      "Role Playing                666663.0\n",
      "Tools                       648805.0\n",
      "Music                       574184.0\n",
      "Social                      569617.0\n",
      "Weather                     509165.0\n",
      "Productivity                474612.0\n",
      "Casual                      462471.0\n",
      "Arcade                      363984.0\n",
      "Casino                      354788.0\n",
      "Board                       349944.0\n",
      "Adventure                   332264.0\n",
      "Educational                 310218.0\n",
      "Puzzle                      276355.0\n",
      "Word                        272779.0\n",
      "Card                        247785.0\n",
      "Sports                      214813.0\n",
      "Travel & Local              211334.0\n",
      "Comics                      182162.0\n",
      "Entertainment               181690.0\n",
      "News & Magazines            159523.0\n",
      "Dating                      150701.0\n",
      "Personalization             148377.0\n",
      "Maps & Navigation           141261.0\n",
      "Finance                     135861.0\n",
      "Trivia                      135823.0\n",
      "Shopping                    133768.0\n",
      "Parenting                    95330.0\n",
      "Music & Audio                91705.0\n",
      "Libraries & Demo             86676.0\n",
      "Art & Design                 79842.0\n",
      "Health & Fitness             70228.0\n",
      "Lifestyle                    66977.0\n",
      "Books & Reference            62326.0\n",
      "Auto & Vehicles              46249.0\n",
      "Beauty                       45386.0\n",
      "House & Home                 41573.0\n",
      "Business                     39691.0\n",
      "Education                    33801.0\n",
      "Food & Drink                 30129.0\n",
      "Medical                      26672.0\n",
      "Events                        7911.0\n",
      "Name: avg_installs, dtype: float64\n"
     ]
    }
   ],
   "source": [
    "# average installs by category\n",
    "\n",
    "avg_installs_by_category = df.groupby('category')['avg_installs'].mean().round(0)\n",
    "avg_installs_by_category = avg_installs_by_category.sort_values(ascending = False)\n",
    "print(avg_installs_by_category)\n"
   ]
  },
  {
   "cell_type": "markdown",
   "id": "4c646f6b-e0be-4bb2-8645-f95feb42e203",
   "metadata": {},
   "source": [
    "*Popularity (measured by average installs) is strongly concentrated in entertainment, gaming, and communication apps, while more specialized, educational, or utility apps tend to attract smaller user bases. This reflects user preferences on mobile platforms, with casual and widely appealing content dominating downloads.*"
   ]
  },
  {
   "cell_type": "markdown",
   "id": "681a1954-efae-4251-aac3-2cbf59492c28",
   "metadata": {},
   "source": [
    "III - Are Education apps more/less likely to use IAP compared to Music & Audio?"
   ]
  },
  {
   "cell_type": "code",
   "execution_count": 162,
   "id": "16eba99e-6896-48fd-95d4-bb30f30be319",
   "metadata": {},
   "outputs": [
    {
     "name": "stdout",
     "output_type": "stream",
     "text": [
      "category\n",
      "Education        6.635173\n",
      "Music & Audio    2.903467\n",
      "Name: in_app_purchases_flag, dtype: float64\n"
     ]
    },
    {
     "data": {
      "image/png": "[encoded data removed]",
      "text/plain": [
       "<Figure size 640x480 with 1 Axes>"
      ]
     },
     "metadata": {},
     "output_type": "display_data"
    }
   ],
   "source": [
    "subset = ('Music & Audio' , 'Education')\n",
    "iap_group = df[df['category'].isin(subset)].groupby('category')['in_app_purchases_flag'].mean() *100\n",
    "print(iap_group)\n",
    "\n",
    "# visualse\n",
    "\n",
    "sns.barplot(x=iap_group.index, y=iap_group.values)\n",
    "plt.ylabel(\"Percentage of apps with IAP (%)\")\n",
    "plt.title(\"IAP Usage: Education vs Music & Videos\")\n",
    "plt.show()\n"
   ]
  },
  {
   "cell_type": "markdown",
   "id": "04d72fad-d37b-41c3-bbde-48700802ead6",
   "metadata": {},
   "source": [
    "*Education apps are more likely to include IAP compared to Music & Audio apps. This could be because some educational apps offer premium content, extra features, or subscription models, while Music & Audio apps may rely more on ad-supported or free content.*"
   ]
  },
  {
   "cell_type": "markdown",
   "id": "54cbb722-d67a-4f41-9120-ea95192be032",
   "metadata": {},
   "source": [
    "IV - Free vs Paid Across Categories\n",
    "\n",
    "A pivot analysis shows that most categories are dominated by free apps, though categories such as Business or Productivity feature a larger share of paid applications."
   ]
  },
  {
   "cell_type": "code",
   "execution_count": 163,
   "id": "533b4952-a657-4f79-bfd5-753f6a89cfce",
   "metadata": {},
   "outputs": [
    {
     "name": "stdout",
     "output_type": "stream",
     "text": [
      "                 Paid   Free\n",
      "category                    \n",
      "Action            587  25839\n",
      "Adventure         968  21347\n",
      "Arcade            728  48454\n",
      "Art & Design      168  16704\n",
      "Auto & Vehicles   276  17471\n"
     ]
    }
   ],
   "source": [
    "\n",
    "# Create a pivot table: index = category, columns = Free/Paid, values = count\n",
    "free_paid_per_category = df.pivot_table(index='category', \n",
    "                                        columns='app_status', \n",
    "                                        aggfunc='size', \n",
    "                                        fill_value=0)\n",
    "\n",
    "# Rename columns for readability\n",
    "free_paid_per_category.columns = ['Paid', 'Free']  # assuming 0 = Paid, 1 = Free\n",
    "\n",
    "print(free_paid_per_category.head())"
   ]
  },
  {
   "cell_type": "markdown",
   "id": "80877a43-f9af-4813-89f0-4642504de0a4",
   "metadata": {},
   "source": [
    "\n"
   ]
  },
  {
   "cell_type": "markdown",
   "id": "fd0a7cc4-5890-4a25-9b4c-baf2036d082a",
   "metadata": {},
   "source": [
    " *Free apps overwhelmingly dominate all categories, often outnumbering paid apps by a factor of 20–70. Paid apps are a small fraction, typically offering additional features, premium content, or ad-free experiences. This highlights the prevalence of free apps across mobile categories, with monetization strategies often relying on in-app purchases or advertising rather than upfront payment.*"
   ]
  },
  {
   "cell_type": "markdown",
   "id": "59499d30-75cd-4030-8502-341a87b7579e",
   "metadata": {},
   "source": [
    "\n",
    "\n",
    "V - In-App Purchases & Recommendations\n",
    "\n",
    "Heatmaps reveal that apps offering in-app purchases tend to have higher average installs and are more likely to be recommended by the Play Store, especially in categories like Games and Education."
   ]
  },
  {
   "cell_type": "code",
   "execution_count": 164,
   "id": "99631ec0-d2b9-4eba-8d72-68dd09de59dc",
   "metadata": {},
   "outputs": [
    {
     "name": "stdout",
     "output_type": "stream",
     "text": [
      "                       in_app_purchases_flag  play_store_recommend  \\\n",
      "in_app_purchases_flag               1.000000              0.046480   \n",
      "play_store_recommend                0.046480              1.000000   \n",
      "avg_installs                        0.014953              0.063293   \n",
      "\n",
      "                       avg_installs  \n",
      "in_app_purchases_flag      0.014953  \n",
      "play_store_recommend       0.063293  \n",
      "avg_installs               1.000000  \n"
     ]
    },
    {
     "data": {
      "image/png": "[encoded data removed]",
      "text/plain": [
       "<Figure size 500x400 with 2 Axes>"
      ]
     },
     "metadata": {},
     "output_type": "display_data"
    }
   ],
   "source": [
    "subset = df[['in_app_purchases_flag', 'play_store_recommend', 'avg_installs']]\n",
    "corr_matrix = subset.corr()\n",
    "print(corr_matrix)\n",
    "import seaborn as sns\n",
    "import matplotlib.pyplot as plt\n",
    "\n",
    "plt.figure(figsize=(5,4))\n",
    "sns.heatmap(corr_matrix, annot=True, fmt=\".2f\", cmap=\"coolwarm\")\n",
    "plt.title(\"Correlation with Average Installs\")\n",
    "plt.show()\n"
   ]
  },
  {
   "cell_type": "markdown",
   "id": "d676723d-20b4-4939-bdb3-95861afe18fb",
   "metadata": {},
   "source": [
    "*Contrary to common expectations, offering in-app purchases or being recommended does not strongly affect average installs. This highlights that other factors, such as app quality, category, or marketing, may play a bigger role in driving installs.*"
   ]
  },
  {
   "cell_type": "markdown",
   "id": "9d6d2bc3-51db-4b3d-9de3-b9524d59e79f",
   "metadata": {},
   "source": [
    "---"
   ]
  },
  {
   "cell_type": "markdown",
   "id": "794e3437-1461-4dad-bc5c-7d146a3d6950",
   "metadata": {},
   "source": [
    "## Overall Conclusion and Business Implications\n",
    "\n",
    "The analysis shows that the vast majority of apps in the dataset follow a free or freemium model, with only a very small proportion being fully paid. This is consistent with real-world trends in the education sector: \"Khan Academy\" is an example of a platform that offers all content for free, relying on donations and partnerships instead of direct user payments. In contrast, \"Duolingo\" follows a freemium model, where the core learning experience is free but additional features (e.g., ad-free experience, offline access) are monetized through subscriptions and in-app purchases. This comparison suggests that offering free access maximizes adoption, while introducing a premium tier provides a path for financial sustainability—an insight that could be valuable when thinking about future strategies for XpertBot.\n",
    "\n",
    "*Key Recommandations for XpertBot:*\n",
    "- dopt a freemium model: Focus on free access to core features, with optional premium upgrades (e.g., advanced lessons, certificates, or ad-free versions).\n",
    "- Focus on quality over quantity: Competing with large developers is difficult in terms of volume. XpertBot should prioritize specialized, high-quality educational content to stand out.  \n",
    "- Leverage recommendations: Since Play Store recommendations are rare and favor apps without IAP, optimizing user experience, ratings, and accessibility is critical for visibility.  \n",
    "- Improve engagement: User satisfaction is already high for Education apps, but XpertBot can differentiate with interactive features, gamification, or AI-driven personalization to retain users.  \n",
    "\n",
    "### Final takeaway\n",
    "\n",
    "For XpertBot, success in the Education app market lies in balancing accessibility (free content) with sustainable monetization (freemium/IAP), investing in quality and user satisfaction, and targeting niches where the company can differentiate from mass developers.  "
   ]
  },
  {
   "cell_type": "code",
   "execution_count": null,
   "id": "940df76e-7717-4ee5-ab4c-05808882337b",
   "metadata": {},
   "outputs": [],
   "source": []
  }
 ],
 "metadata": {
  "kernelspec": {
   "display_name": "Python 3 (ipykernel)",
   "language": "python",
   "name": "python3"
  },
  "language_info": {
   "codemirror_mode": {
    "name": "ipython",
    "version": 3
   },
   "file_extension": ".py",
   "mimetype": "text/x-python",
   "name": "python",
   "nbconvert_exporter": "python",
   "pygments_lexer": "ipython3",
   "version": "3.12.7"
  }
 },
 "nbformat": 4,
 "nbformat_minor": 5
}
