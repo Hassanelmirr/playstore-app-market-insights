{
 "cells": [
  {
   "cell_type": "markdown",
   "id": "ed1fcbe4-f2ba-49b2-9f99-3a2e827720b0",
   "metadata": {},
   "source": [
    "# **Education Apps: Market Trends, Monetization, and Growth Opportunities**"
   ]
  },
  {
   "cell_type": "markdown",
   "id": "d8624fa3-15d6-4ebd-9bed-6d99ce23ecfb",
   "metadata": {},
   "source": [
    "\n",
    "## Introduction\n",
    "\n",
    "The education app market has experienced rapid growth in recent years, driven by increased mobile device adoption, digital learning trends, and demand for accessible educational content. This analysis leverages a dataset of over 2 million apps to uncover key trends, revenue strategies, and growth opportunities within the education category.\n",
    "\n",
    "**Objectives of this analysis:**\n",
    "1. Identify the distribution of education apps by type (free vs paid) and monetization strategy (ads, in-app purchases, freemium models).  \n",
    "2. Explore trends in app downloads and user engagement to determine which strategies correlate with higher reach.  \n",
    "3. Provide actionable insights for companies and app developers to optimize revenue, improve user acquisition, and prioritize app development focus areas.\n",
    "\n",
    "**Dataset Overview:**\n",
    "- Size: 2,000,000+ apps  \n",
    "- Features: app category, pricing model, average installs, ratings, revenue indicators, and more  \n",
    "- Scope: Analysis focuses specifically on apps within the *Education* category\n",
    "\n",
    "**Key Value for Stakeholders:**  \n",
    "By analyzing market patterns and monetization strategies, companies can make informed decisions about app development, marketing, and pricing, targeting segments with the highest growth and revenue potential.\n",
    "\n",
    "\n",
    "\n",
    "---"
   ]
  },
  {
   "cell_type": "markdown",
   "id": "b4be1a6a-49e5-4c85-bad7-eb380d9648ec",
   "metadata": {},
   "source": [
    "### Packages & Setup"
   ]
  },
  {
   "cell_type": "markdown",
   "id": "a04ba677-767d-44cf-b43a-2ec7e1309682",
   "metadata": {},
   "source": [
    "We’ll use these packages for data cleaning, analysis, and visualization."
   ]
  },
  {
   "cell_type": "code",
   "execution_count": 1,
   "id": "a39cb37f-82a9-47aa-b683-e3021d1816ce",
   "metadata": {},
   "outputs": [],
   "source": [
    "# Kindly upload the packages before starting :)\n",
    "import pandas as pd\n",
    "import numpy as np\n",
    "import seaborn as sns\n",
    "import plotly.express as px"
   ]
  },
  {
   "cell_type": "markdown",
   "id": "446f116a-4004-4fc4-92d6-d9cb4ef99842",
   "metadata": {},
   "source": [
    "### Data Import"
   ]
  },
  {
   "cell_type": "code",
   "execution_count": 2,
   "id": "9abb1183-60c8-4b47-b696-3ccca3a60f35",
   "metadata": {},
   "outputs": [],
   "source": [
    "import os\n",
    "\n",
    "def load_dataset(file_path):\n",
    "    \"\"\"Load CSV dataset with error handling.\"\"\"\n",
    "    if not os.path.exists(file_path):\n",
    "        raise FileNotFoundError(f\"The file {file_path} was not found. Please check the path.\")\n",
    "    try:\n",
    "        df = pd.read_csv(file_path)\n",
    "        print(f\"Dataset loaded successfully: {df.shape[0]} rows, {df.shape[1]} columns\")\n",
    "        return df\n",
    "    except Exception as e:\n",
    "        raise Exception(f\"Error while loading dataset: {e}\")\n"
   ]
  },
  {
   "cell_type": "code",
   "execution_count": 3,
   "id": "f40753e2-a43f-487c-bf2b-a678e5c16b92",
   "metadata": {},
   "outputs": [
    {
     "name": "stdout",
     "output_type": "stream",
     "text": [
      "Dataset loaded successfully: 2312944 rows, 24 columns\n"
     ]
    }
   ],
   "source": [
    "file_path = r\"C:\\Users\\A\\Desktop\\playstore_app_market_insights\\dataset\\Google-Playstore.csv\"\n",
    "df = load_dataset(file_path)"
   ]
  },
  {
   "cell_type": "markdown",
   "id": "a2ae9268-268a-436c-babe-66fca175ba91",
   "metadata": {},
   "source": [
    "Dataset contains a comprehensive set of app features useful for revenue and user behavior analysis."
   ]
  },
  {
   "cell_type": "markdown",
   "id": "d919e81e-efb1-4871-b272-506c9409a6cc",
   "metadata": {},
   "source": [
    "## **Data Cleaning & Transformation**"
   ]
  },
  {
   "cell_type": "code",
   "execution_count": 4,
   "id": "212d0600-3267-43fc-aeb8-54e389f30e87",
   "metadata": {},
   "outputs": [],
   "source": [
    "def clean_dataset(df):\n",
    "    \n",
    "    # 1. Handle Missing Values\n",
    "    df = df.dropna(subset=['App Name'])\n",
    "    df['Rating'] = df.groupby('Category')['Rating'].transform(lambda x: x.fillna(x.median()))\n",
    "    df['Released_missing'] = df['Released'].isna().astype(int)\n",
    "    df['Released'] = df['Released'].fillna(df['Last Updated'])\n",
    "    df['Developer Id'] = df['Developer Id'].fillna(\"N/A\")\n",
    "    df['max_inst_miss'] = df['Minimum Installs'].isna().astype(int)\n",
    "    df['Minimum Installs'] = df['Minimum Installs'].fillna(df['Maximum Installs'])\n",
    "    df['Currency'] = df['Currency'].fillna(\"N/A\")\n",
    "\n",
    "    # 2. Drop Useless Columns\n",
    "    df = df.drop([\n",
    "        'Developer Website', 'Developer Email', 'Privacy Policy', 'Scraped Time', \n",
    "        'App Id', 'Installs', 'Rating Count', 'Minimum Android'\n",
    "    ], axis=1, errors='ignore')\n",
    "\n",
    "    # 3. Normalize Size\n",
    "    df[\"Size\"] = df[\"Size\"].astype(str).str.replace(\",\", \"\").str.replace(\" \", \"\")\n",
    "    def convert_size(value):\n",
    "        try:\n",
    "            val = str(value).strip()\n",
    "            if val.lower() in {\"varieswithdevice\", \"na\", \"n/a\", \"\"}:\n",
    "                return np.nan\n",
    "            if val[-1].lower() == \"m\":\n",
    "                return float(val[:-1]) * 1000\n",
    "            elif val[-1].lower() == \"k\":\n",
    "                return float(val[:-1])\n",
    "            else:\n",
    "                return float(val)\n",
    "        except:\n",
    "            return np.nan\n",
    "    df[\"size\"] = df[\"Size\"].apply(convert_size)\n",
    "    df = df.drop(['Size'], axis=1, errors='ignore')\n",
    "\n",
    "    # 4. Convert Boolean to Int\n",
    "    df['Free'] = df['Free'].astype(int)\n",
    "    df['Ad Supported'] = df['Ad Supported'].astype(int)\n",
    "    df['In App Purchases'] = df['In App Purchases'].astype(int)\n",
    "    df['Editors Choice'] = df['Editors Choice'].astype(int)\n",
    "\n",
    "    # 5. Derived Columns\n",
    "    df['avg_installs'] = ((df['Minimum Installs'] + df['Maximum Installs']) / 2).round(0)\n",
    "    df['Released'] = pd.to_datetime(df['Released'], errors='coerce')\n",
    "    df['released_year'] = df['Released'].dt.year\n",
    "\n",
    "    # 6. Rename Columns (snake_case)\n",
    "    df = df.rename(columns={\n",
    "        \"App Name\": \"app_name\",\n",
    "        \"Category\": \"category\",\n",
    "        \"Rating\": \"rating\",\n",
    "        \"Free\": \"app_status\",\n",
    "        \"Currency\": \"currency\",\n",
    "        \"Developer Id\": \"developer_name\",\n",
    "        \"Released\": \"released_date\",\n",
    "        \"Last Updated\": \"last_update\",\n",
    "        \"Content Rating\": \"content_target\",\n",
    "        \"Ad Supported\": \"ads_flag\",\n",
    "        \"In App Purchases\": \"in_app_purchases_flag\",\n",
    "        \"Editors Choice\": \"play_store_recommend\"\n",
    "    })\n",
    "\n",
    "    # Ensure consistency between Price and app_status\n",
    "    df.loc[df['Price'] > 0, 'app_status'] = 0  # Paid\n",
    "    df.loc[df['Price'] == 0, 'app_status'] = 1  # Free\n",
    "\n",
    "    # 7. Remove Duplicates\n",
    "    df = df.drop_duplicates(['app_name'], keep='first')\n",
    "\n",
    "    print(f\"Cleaning complete: {df.shape[0]} rows, {df.shape[1]} columns remain.\")\n",
    "    return df\n"
   ]
  },
  {
   "cell_type": "code",
   "execution_count": 5,
   "id": "4a437fe1-d701-40ae-91fc-da008873e19a",
   "metadata": {},
   "outputs": [
    {
     "name": "stderr",
     "output_type": "stream",
     "text": [
      "C:\\Users\\A\\AppData\\Local\\Temp\\ipykernel_996\\3085676484.py:5: SettingWithCopyWarning: \n",
      "A value is trying to be set on a copy of a slice from a DataFrame.\n",
      "Try using .loc[row_indexer,col_indexer] = value instead\n",
      "\n",
      "See the caveats in the documentation: https://pandas.pydata.org/pandas-docs/stable/user_guide/indexing.html#returning-a-view-versus-a-copy\n",
      "  df['Rating'] = df.groupby('Category')['Rating'].transform(lambda x: x.fillna(x.median()))\n",
      "C:\\Users\\A\\AppData\\Local\\Temp\\ipykernel_996\\3085676484.py:6: SettingWithCopyWarning: \n",
      "A value is trying to be set on a copy of a slice from a DataFrame.\n",
      "Try using .loc[row_indexer,col_indexer] = value instead\n",
      "\n",
      "See the caveats in the documentation: https://pandas.pydata.org/pandas-docs/stable/user_guide/indexing.html#returning-a-view-versus-a-copy\n",
      "  df['Released_missing'] = df['Released'].isna().astype(int)\n",
      "C:\\Users\\A\\AppData\\Local\\Temp\\ipykernel_996\\3085676484.py:7: SettingWithCopyWarning: \n",
      "A value is trying to be set on a copy of a slice from a DataFrame.\n",
      "Try using .loc[row_indexer,col_indexer] = value instead\n",
      "\n",
      "See the caveats in the documentation: https://pandas.pydata.org/pandas-docs/stable/user_guide/indexing.html#returning-a-view-versus-a-copy\n",
      "  df['Released'] = df['Released'].fillna(df['Last Updated'])\n",
      "C:\\Users\\A\\AppData\\Local\\Temp\\ipykernel_996\\3085676484.py:8: SettingWithCopyWarning: \n",
      "A value is trying to be set on a copy of a slice from a DataFrame.\n",
      "Try using .loc[row_indexer,col_indexer] = value instead\n",
      "\n",
      "See the caveats in the documentation: https://pandas.pydata.org/pandas-docs/stable/user_guide/indexing.html#returning-a-view-versus-a-copy\n",
      "  df['Developer Id'] = df['Developer Id'].fillna(\"N/A\")\n",
      "C:\\Users\\A\\AppData\\Local\\Temp\\ipykernel_996\\3085676484.py:9: SettingWithCopyWarning: \n",
      "A value is trying to be set on a copy of a slice from a DataFrame.\n",
      "Try using .loc[row_indexer,col_indexer] = value instead\n",
      "\n",
      "See the caveats in the documentation: https://pandas.pydata.org/pandas-docs/stable/user_guide/indexing.html#returning-a-view-versus-a-copy\n",
      "  df['max_inst_miss'] = df['Minimum Installs'].isna().astype(int)\n",
      "C:\\Users\\A\\AppData\\Local\\Temp\\ipykernel_996\\3085676484.py:10: SettingWithCopyWarning: \n",
      "A value is trying to be set on a copy of a slice from a DataFrame.\n",
      "Try using .loc[row_indexer,col_indexer] = value instead\n",
      "\n",
      "See the caveats in the documentation: https://pandas.pydata.org/pandas-docs/stable/user_guide/indexing.html#returning-a-view-versus-a-copy\n",
      "  df['Minimum Installs'] = df['Minimum Installs'].fillna(df['Maximum Installs'])\n",
      "C:\\Users\\A\\AppData\\Local\\Temp\\ipykernel_996\\3085676484.py:11: SettingWithCopyWarning: \n",
      "A value is trying to be set on a copy of a slice from a DataFrame.\n",
      "Try using .loc[row_indexer,col_indexer] = value instead\n",
      "\n",
      "See the caveats in the documentation: https://pandas.pydata.org/pandas-docs/stable/user_guide/indexing.html#returning-a-view-versus-a-copy\n",
      "  df['Currency'] = df['Currency'].fillna(\"N/A\")\n"
     ]
    },
    {
     "name": "stdout",
     "output_type": "stream",
     "text": [
      "Cleaning complete: 2177943 rows, 20 columns remain.\n"
     ]
    }
   ],
   "source": [
    "df = clean_dataset(df)"
   ]
  },
  {
   "cell_type": "markdown",
   "id": "dcfe95d7-8e0e-4f31-8bed-505a0a5c6a5a",
   "metadata": {},
   "source": [
    "## **Data Validation**"
   ]
  },
  {
   "cell_type": "code",
   "execution_count": null,
   "id": "fda1ef59-4761-4ae5-8577-303ca38518da",
   "metadata": {},
   "outputs": [],
   "source": [
    "def validate_dataset(df):\n",
    "    errors = []\n",
    "\n",
    "    # Ratings between 0–5\n",
    "    if not df['rating'].between(0, 5).all():\n",
    "        errors.append(\"Invalid ratings detected outside range 0–5.\")\n",
    "\n",
    "    # Released Year check\n",
    "    if df['released_year'].isna().any():\n",
    "        errors.append(\"Missing release years detected.\")\n",
    "    invalid_years = df[~df['released_year'].between(2008, 2025)]\n",
    "    if not invalid_years.empty:\n",
    "        errors.append(f\"{len(invalid_years)} apps have invalid release years.\")\n",
    "\n",
    "    # Boolean flags check\n",
    "    for col in ['app_status', 'ads_flag', 'in_app_purchases_flag', 'play_store_recommend']:\n",
    "        if not df[col].isin([0, 1]).all():\n",
    "            errors.append(f\"Invalid values in {col} (should be 0 or 1).\")\n",
    "\n",
    "    if errors:\n",
    "        print(\"Validation Issues Found:\")\n",
    "        for e in errors:\n",
    "            print(\"-\", e)\n",
    "    else:\n",
    "        print(\"Dataset validation passed.\")"
   ]
  },
  {
   "cell_type": "code",
   "execution_count": null,
   "id": "7dab08e4-0be0-4d7a-a8fe-799769afe4b1",
   "metadata": {},
   "outputs": [],
   "source": [
    "validate_dataset(df)"
   ]
  },
  {
   "cell_type": "markdown",
   "id": "29a1e3d0-99bb-4349-9282-e26d660c6e4a",
   "metadata": {},
   "source": [
    "All app categories now conform to standard taxonomy; no negative installs found"
   ]
  },
  {
   "cell_type": "markdown",
   "id": "f5392071-9167-4be3-8639-0a92a932f4ef",
   "metadata": {},
   "source": [
    "---"
   ]
  },
  {
   "cell_type": "markdown",
   "id": "a65d47fc-efbc-421b-ac55-a2ec96c5c994",
   "metadata": {},
   "source": [
    "**Save Dataset**"
   ]
  },
  {
   "cell_type": "code",
   "execution_count": 6,
   "id": "d295a7f7-fe75-4056-9a8a-5490b3d9294a",
   "metadata": {},
   "outputs": [
    {
     "name": "stdout",
     "output_type": "stream",
     "text": [
      "Saved transformed dataset to: C:\\Users\\A\\Desktop\\playstore_app_market_insights\\dataset\\Google-Playstore-transformed.csv\n"
     ]
    }
   ],
   "source": [
    "from pathlib import Path\n",
    "\n",
    "# Suppose 'df' is your transformed DataFrame\n",
    "\n",
    "# Define save path\n",
    "save_path = Path(r\"C:\\Users\\A\\Desktop\\playstore_app_market_insights\\dataset\") / \"Google-Playstore-transformed.csv\"\n",
    "\n",
    "# Save the DataFrame\n",
    "df.to_csv(save_path, index=False)  # don't save the index\n",
    "print(f\"Saved transformed dataset to: {save_path}\")"
   ]
  },
  {
   "cell_type": "markdown",
   "id": "21c21e0d-5a9e-4e97-b8af-56351ad8ea4e",
   "metadata": {},
   "source": [
    "*Kindly check the part II to explore the EDA part*"
   ]
  }
 ],
 "metadata": {
  "kernelspec": {
   "display_name": "Python 3 (ipykernel)",
   "language": "python",
   "name": "python3"
  },
  "language_info": {
   "codemirror_mode": {
    "name": "ipython",
    "version": 3
   },
   "file_extension": ".py",
   "mimetype": "text/x-python",
   "name": "python",
   "nbconvert_exporter": "python",
   "pygments_lexer": "ipython3",
   "version": "3.12.7"
  }
 },
 "nbformat": 4,
 "nbformat_minor": 5
}
