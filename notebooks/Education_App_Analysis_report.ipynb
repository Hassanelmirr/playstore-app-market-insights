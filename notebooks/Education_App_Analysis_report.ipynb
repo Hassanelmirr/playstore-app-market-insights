{
 "cells": [
  {
   "cell_type": "markdown",
   "id": "6935bb6c-5b26-40a7-b5d5-2fae0c4c3245",
   "metadata": {},
   "source": [
    "# **Education Apps: Market Trends, Monetization, and Growth Opportunities**"
   ]
  },
  {
   "cell_type": "markdown",
   "id": "a8e8eb33-b8b7-4a96-b084-f94c60f1da5d",
   "metadata": {},
   "source": [
    "\n",
    "## Introduction\n",
    "\n",
    "The education app market has experienced rapid growth in recent years, driven by increased mobile device adoption, digital learning trends, and demand for accessible educational content. This analysis leverages a dataset of over 2 million apps to uncover key trends, revenue strategies, and growth opportunities within the education category.\n",
    "\n",
    "**Objectives of this analysis:**\n",
    "1. Identify the distribution of education apps by type (free vs paid) and monetization strategy (ads, in-app purchases, freemium models).  \n",
    "2. Explore trends in app downloads and user engagement to determine which strategies correlate with higher reach.  \n",
    "3. Provide actionable insights for companies and app developers to optimize revenue, improve user acquisition, and prioritize app development focus areas.\n",
    "\n",
    "**Dataset Overview:**\n",
    "- Size: 2,000,000+ apps  \n",
    "- Features: app category, pricing model, average installs, ratings, revenue indicators, and more  \n",
    "- Scope: Analysis focuses specifically on apps within the *Education* category\n",
    "\n",
    "**Key Value for Stakeholders:**  \n",
    "By analyzing market patterns and monetization strategies, companies can make informed decisions about app development, marketing, and pricing, targeting segments with the highest growth and revenue potential.\n",
    "\n",
    "\n",
    "\n",
    "---"
   ]
  },
  {
   "cell_type": "markdown",
   "id": "3c79c119-4fca-47d6-8ccf-c58d56a7f08d",
   "metadata": {},
   "source": [
    "### Packages & Setup"
   ]
  },
  {
   "cell_type": "markdown",
   "id": "a20528e4-587d-4527-86e0-ca5df2938617",
   "metadata": {},
   "source": [
    "We’ll use these packages for data cleaning, analysis, and visualization."
   ]
  },
  {
   "cell_type": "code",
   "execution_count": null,
   "id": "6933d8ce-1836-4347-ae23-ce5fee433cbd",
   "metadata": {},
   "outputs": [],
   "source": [
    "# Kindly upload the packages before starting :)\n",
    "import pandas as pd\n",
    "import numpy as np\n",
    "import seaborn as sns\n",
    "import plotly.express as px"
   ]
  },
  {
   "cell_type": "markdown",
   "id": "541deede-8f5b-4f6c-95f7-2364346cc1b1",
   "metadata": {},
   "source": [
    "### Data Import"
   ]
  },
  {
   "cell_type": "code",
   "execution_count": null,
   "id": "ac04b69e-1917-4a59-9ee0-6378e5c10689",
   "metadata": {},
   "outputs": [],
   "source": [
    "import os\n",
    "\n",
    "def load_dataset(file_path):\n",
    "    \"\"\"Load CSV dataset with error handling.\"\"\"\n",
    "    if not os.path.exists(file_path):\n",
    "        raise FileNotFoundError(f\"The file {file_path} was not found. Please check the path.\")\n",
    "    try:\n",
    "        df = pd.read_csv(file_path)\n",
    "        print(f\"Dataset loaded successfully: {df.shape[0]} rows, {df.shape[1]} columns\")\n",
    "        return df\n",
    "    except Exception as e:\n",
    "        raise Exception(f\"Error while loading dataset: {e}\")\n"
   ]
  },
  {
   "cell_type": "code",
   "execution_count": null,
   "id": "b69a2481-ad56-473f-9657-e9e4f21d2ada",
   "metadata": {},
   "outputs": [],
   "source": [
    "file_path = r\"C:\\Users\\A\\Desktop\\playstore_app_market_insights\\dataset\\Google-Playstore.csv\"\n",
    "df = load_dataset(file_path)"
   ]
  },
  {
   "cell_type": "markdown",
   "id": "5a8a0f0f-7737-4ace-b1e4-27d2973807a5",
   "metadata": {},
   "source": [
    "Dataset contains a comprehensive set of app features useful for revenue and user behavior analysis."
   ]
  },
  {
   "cell_type": "markdown",
   "id": "e67ae68b-fd72-4d52-9e79-18adb6e3cde8",
   "metadata": {},
   "source": [
    "---"
   ]
  },
  {
   "cell_type": "markdown",
   "id": "09603018-8315-4eb7-b4ed-7c30ec9c14a9",
   "metadata": {},
   "source": [
    "# **Data Cleaning & Transformation**"
   ]
  },
  {
   "cell_type": "code",
   "execution_count": null,
   "id": "cfba7f7d-3800-4dfa-85a9-7630b81da0cc",
   "metadata": {},
   "outputs": [],
   "source": [
    "def clean_dataset(df):\n",
    "    \n",
    "    # 1. Handle Missing Values\n",
    "    df = df.dropna(subset=['App Name'])\n",
    "    df['Rating'] = df.groupby('Category')['Rating'].transform(lambda x: x.fillna(x.median()))\n",
    "    df['Released_missing'] = df['Released'].isna().astype(int)\n",
    "    df['Released'] = df['Released'].fillna(df['Last Updated'])\n",
    "    df['Developer Id'] = df['Developer Id'].fillna(\"N/A\")\n",
    "    df['max_inst_miss'] = df['Minimum Installs'].isna().astype(int)\n",
    "    df['Minimum Installs'] = df['Minimum Installs'].fillna(df['Maximum Installs'])\n",
    "    df['Currency'] = df['Currency'].fillna(\"N/A\")\n",
    "\n",
    "    # 2. Drop Useless Columns\n",
    "    df = df.drop([\n",
    "        'Developer Website', 'Developer Email', 'Privacy Policy', 'Scraped Time', \n",
    "        'App Id', 'Installs', 'Rating Count', 'Minimum Android'\n",
    "    ], axis=1, errors='ignore')\n",
    "\n",
    "    # 3. Normalize Size\n",
    "    df[\"Size\"] = df[\"Size\"].astype(str).str.replace(\",\", \"\").str.replace(\" \", \"\")\n",
    "    def convert_size(value):\n",
    "        try:\n",
    "            val = str(value).strip()\n",
    "            if val.lower() in {\"varieswithdevice\", \"na\", \"n/a\", \"\"}:\n",
    "                return np.nan\n",
    "            if val[-1].lower() == \"m\":\n",
    "                return float(val[:-1]) * 1000\n",
    "            elif val[-1].lower() == \"k\":\n",
    "                return float(val[:-1])\n",
    "            else:\n",
    "                return float(val)\n",
    "        except:\n",
    "            return np.nan\n",
    "    df[\"size\"] = df[\"Size\"].apply(convert_size)\n",
    "    df = df.drop(['Size'], axis=1, errors='ignore')\n",
    "\n",
    "    # 4. Convert Boolean to Int\n",
    "    df['Free'] = df['Free'].astype(int)\n",
    "    df['Ad Supported'] = df['Ad Supported'].astype(int)\n",
    "    df['In App Purchases'] = df['In App Purchases'].astype(int)\n",
    "    df['Editors Choice'] = df['Editors Choice'].astype(int)\n",
    "\n",
    "    # 5. Derived Columns\n",
    "    df['avg_installs'] = ((df['Minimum Installs'] + df['Maximum Installs']) / 2).round(0)\n",
    "    df['Released'] = pd.to_datetime(df['Released'], errors='coerce')\n",
    "    df['released_year'] = df['Released'].dt.year\n",
    "\n",
    "    # 6. Rename Columns (snake_case)\n",
    "    df = df.rename(columns={\n",
    "        \"App Name\": \"app_name\",\n",
    "        \"Category\": \"category\",\n",
    "        \"Rating\": \"rating\",\n",
    "        \"Free\": \"app_status\",\n",
    "        \"Currency\": \"currency\",\n",
    "        \"Developer Id\": \"developer_name\",\n",
    "        \"Released\": \"released_date\",\n",
    "        \"Last Updated\": \"last_update\",\n",
    "        \"Content Rating\": \"content_target\",\n",
    "        \"Ad Supported\": \"ads_flag\",\n",
    "        \"In App Purchases\": \"in_app_purchases_flag\",\n",
    "        \"Editors Choice\": \"play_store_recommend\"\n",
    "    })\n",
    "\n",
    "    # Ensure consistency between Price and app_status\n",
    "    df.loc[df['Price'] > 0, 'app_status'] = 0  # Paid\n",
    "    df.loc[df['Price'] == 0, 'app_status'] = 1  # Free\n",
    "\n",
    "    # 7. Remove Duplicates\n",
    "    df = df.drop_duplicates(['app_name'], keep='first')\n",
    "\n",
    "    print(f\"Cleaning complete: {df.shape[0]} rows, {df.shape[1]} columns remain.\")\n",
    "    return df\n"
   ]
  },
  {
   "cell_type": "code",
   "execution_count": null,
   "id": "7a1f8ada-94ca-4516-8261-76b303facb6d",
   "metadata": {},
   "outputs": [],
   "source": [
    "df = clean_dataset(df)"
   ]
  },
  {
   "cell_type": "markdown",
   "id": "f34e6ee7-a668-4cfe-a3f7-2ea019fe9b97",
   "metadata": {},
   "source": [
    "## **Data Validation**"
   ]
  },
  {
   "cell_type": "code",
   "execution_count": null,
   "id": "44025b48-f51c-4dd8-9329-f790a5d662b8",
   "metadata": {},
   "outputs": [],
   "source": [
    "def validate_dataset(df):\n",
    "    errors = []\n",
    "\n",
    "    # Ratings between 0–5\n",
    "    if not df['rating'].between(0, 5).all():\n",
    "        errors.append(\"Invalid ratings detected outside range 0–5.\")\n",
    "\n",
    "    # Released Year check\n",
    "    if df['released_year'].isna().any():\n",
    "        errors.append(\"Missing release years detected.\")\n",
    "    invalid_years = df[~df['released_year'].between(2008, 2025)]\n",
    "    if not invalid_years.empty:\n",
    "        errors.append(f\"{len(invalid_years)} apps have invalid release years.\")\n",
    "\n",
    "    # Boolean flags check\n",
    "    for col in ['app_status', 'ads_flag', 'in_app_purchases_flag', 'play_store_recommend']:\n",
    "        if not df[col].isin([0, 1]).all():\n",
    "            errors.append(f\"Invalid values in {col} (should be 0 or 1).\")\n",
    "\n",
    "    if errors:\n",
    "        print(\"Validation Issues Found:\")\n",
    "        for e in errors:\n",
    "            print(\"-\", e)\n",
    "    else:\n",
    "        print(\"Dataset validation passed.\")"
   ]
  },
  {
   "cell_type": "code",
   "execution_count": null,
   "id": "881f001c-9629-47a9-b255-4687d0515096",
   "metadata": {},
   "outputs": [],
   "source": [
    "validate_dataset(df)"
   ]
  },
  {
   "cell_type": "code",
   "execution_count": null,
   "id": "33d21731-2c76-4855-8c2a-50d3f4adb237",
   "metadata": {},
   "outputs": [],
   "source": [
    "All app categories now conform to standard taxonomy; no negative installs found"
   ]
  },
  {
   "cell_type": "markdown",
   "id": "b4d3a58e-f763-40a0-8a8d-c721521fe77c",
   "metadata": {},
   "source": [
    "# **Exploratory Data Analysis (EDA)**"
   ]
  },
  {
   "cell_type": "markdown",
   "id": "6c7e9702-1ecb-4e77-9990-0dee077dd47f",
   "metadata": {},
   "source": [
    "## Google Play Apps Overview\n",
    "\n",
    "In this section, we perform an initial exploration of the Google Play dataset to understand the overall app market, including:\n",
    "* Total number of apps and category distribution.\n",
    "* Pricing and monetization strategies (Free vs Paid, Ads/IAP)\n",
    "* Ratings and user engagement.\n",
    "* Installs and popularity metrics.\n",
    "\n",
    "These insights will help identify market trends and guide strategic recommendations before focusing on a deep dive into Education apps.\n"
   ]
  },
  {
   "cell_type": "markdown",
   "id": "61760567-3d4f-4e6f-9736-bdfb21542f1d",
   "metadata": {},
   "source": [
    "**General summary and counts**"
   ]
  },
  {
   "cell_type": "code",
   "execution_count": null,
   "id": "96b9e961-d470-42b3-9828-7efb47160c88",
   "metadata": {},
   "outputs": [],
   "source": [
    "# 1. General summary\n",
    "def analyze_total_apps(df):\n",
    "    total_apps = len(df)\n",
    "    print(f\"The Total number of apps: {total_apps}\")\n",
    "    return total_apps\n",
    "\n",
    "\n",
    "# 2. Category analysis\n",
    "def analyze_category_distribution(df):\n",
    "    category_counts = df['category'].value_counts().head(10).reset_index()\n",
    "    category_counts.columns = ['Category', 'Count']\n",
    "    fig = px.bar(\n",
    "        category_counts, \n",
    "        x='Category', \n",
    "        y='Count',\n",
    "        title=f\"Top 10 Categories by Number of Apps\",\n",
    "        text='Count'\n",
    "    )\n",
    "    fig.update_traces(textposition='outside')\n",
    "    fig.show()"
   ]
  },
  {
   "cell_type": "code",
   "execution_count": null,
   "id": "265479e3-da4e-43ba-a014-61e7de83eb44",
   "metadata": {},
   "outputs": [],
   "source": [
    "analyze_total_apps(df)"
   ]
  },
  {
   "cell_type": "code",
   "execution_count": null,
   "id": "fce628d9-c280-4dbe-83d0-88812fd18553",
   "metadata": {},
   "outputs": [],
   "source": [
    "# Category distribution\n",
    "analyze_category_distribution(df)"
   ]
  },
  {
   "cell_type": "markdown",
   "id": "7f530a7b-3702-4276-a0fb-6e863ec3f43f",
   "metadata": {},
   "source": [
    "The dataset contains 2,177,943 apps, showing a very large and diverse market on Google Play.  \n",
    "\n",
    "The most populated categories are Education, Music & Audio, Business, Tools, Entertainment, and Lifestyle, indicating that these segments dominate the app ecosystem.  \n",
    "\n",
    "Education being the top category suggests strong user demand for learning and skill-building apps, while Music & Audio and Business show that entertainment and productivity remain major focuses for users."
   ]
  },
  {
   "cell_type": "markdown",
   "id": "a28fd6e5-07f4-4537-a464-9502fcb539f8",
   "metadata": {},
   "source": [
    "**Pricing and Monetization**"
   ]
  },
  {
   "cell_type": "code",
   "execution_count": null,
   "id": "0f62bed3-dee6-4469-9f42-7927282f58b9",
   "metadata": {},
   "outputs": [],
   "source": [
    "# 3. Free vs Paid distribution\n",
    "\n",
    "def plot_free_apps_financing(df):\n",
    "    \n",
    "    # Classify free apps\n",
    "    free_apps = df[df['Price'] == 0].copy()\n",
    "    free_apps['financing_type'] = 'Nothing'\n",
    "    \n",
    "    free_apps.loc[(free_apps['ads_flag'] == 1) & (free_apps['in_app_purchases_flag'] == 1), 'financing_type'] = 'Ads + IAP'\n",
    "    free_apps.loc[(free_apps['ads_flag'] == 1) & (free_apps['in_app_purchases_flag'] == 0), 'financing_type'] = 'Ads only'\n",
    "    free_apps.loc[(free_apps['ads_flag'] == 0) & (free_apps['in_app_purchases_flag'] == 1), 'financing_type'] = 'IAP only'\n",
    "    \n",
    "    # Count and percentage\n",
    "    counts = free_apps['financing_type'].value_counts()\n",
    "    percent = (counts / counts.sum() * 100).round(2)\n",
    "    \n",
    "    # Plot pie chart\n",
    "    fig = px.pie(\n",
    "        names=counts.index,\n",
    "        values=counts.values,\n",
    "        title='Distribution of Free Apps by Financing Type',\n",
    "        hole=0.3  # donut chart style\n",
    "    )\n",
    "    fig.show()\n",
    "\n",
    "\n",
    "# Financing Trends\n",
    "def plot_all_apps_trend(df):\n",
    "    \"\"\"\n",
    "    Plots the trend of financing methods among all apps (Free and Paid) over the years.\n",
    "    For paid apps, the financing type is considered 'Paid' since they are directly monetized.\n",
    "    \"\"\"\n",
    "    \n",
    "    apps = df.copy()\n",
    "\n",
    "    # Ensure 'released_year' is numeric\n",
    "    apps['released_year'] = pd.to_numeric(apps['released_year'], errors='coerce')\n",
    "\n",
    "    # Classify financing type\n",
    "    apps['financing_type'] = 'Nothing'\n",
    "    \n",
    "    # For Free apps\n",
    "    free_mask = apps['Price'] == 0\n",
    "    apps.loc[free_mask & (apps['ads_flag'] == 1) & (apps['in_app_purchases_flag'] == 1), 'financing_type'] = 'Ads + IAP'\n",
    "    apps.loc[free_mask & (apps['ads_flag'] == 1) & (apps['in_app_purchases_flag'] == 0), 'financing_type'] = 'Ads only'\n",
    "    apps.loc[free_mask & (apps['ads_flag'] == 0) & (apps['in_app_purchases_flag'] == 1), 'financing_type'] = 'IAP only'\n",
    "    \n",
    "    # For Paid apps\n",
    "    apps.loc[apps['Price'] > 0, 'financing_type'] = 'Paid'\n",
    "\n",
    "    # Group by year and financing type\n",
    "    yearly_counts = apps.groupby(['released_year', 'financing_type']).size().reset_index(name='count')\n",
    "\n",
    "    # Calculate percentage per year\n",
    "    yearly_counts['percentage'] = yearly_counts.groupby('released_year')['count'].transform(lambda x: x / x.sum() * 100)\n",
    "\n",
    "    # Plot trend\n",
    "    fig = px.line(yearly_counts, x='released_year', y='percentage', color='financing_type',\n",
    "                  markers=True,\n",
    "                  title='Trend of Financing Methods Among All Apps Over Years',\n",
    "                  labels={'percentage': 'Percentage of Apps', 'released_year': 'Year'})\n",
    "    fig.show()\n"
   ]
  },
  {
   "cell_type": "code",
   "execution_count": null,
   "id": "3f7a4d71-6c26-43fc-a6c8-ba539a1ea317",
   "metadata": {},
   "outputs": [],
   "source": [
    "# Free vs Paid\n",
    "plot_free_apps_financing(df)"
   ]
  },
  {
   "cell_type": "markdown",
   "id": "a03f12ea-f864-4859-8ef7-21282e8c8250",
   "metadata": {},
   "source": [
    "Almost half of free apps (48.4%) fall under \"Other,\" meaning they do not use Ads or In-App Purchases (IAP) as a monetization strategy. This may indicate apps that are entirely free with no direct revenue model, possibly relying on external funding or promotional purposes.  \n",
    "    42.97% of free apps monetize using Ads only, which is the most common revenue strategy among monetized free apps.\n",
    "\n",
    "Only 6.27% of apps use both Ads + IAP, suggesting that dual monetization is relatively rare but potentially more effective for revenue maximization.\n",
    "\n",
    "2.33% of apps rely solely on IAP, indicating this is the least common approach for free apps.  "
   ]
  },
  {
   "cell_type": "code",
   "execution_count": null,
   "id": "e504e9e8-eab0-42a0-a9fd-cc7d5fe62a5c",
   "metadata": {},
   "outputs": [],
   "source": [
    "plot_all_apps_trend(df)"
   ]
  },
  {
   "cell_type": "markdown",
   "id": "ae7c7431-21fe-4aab-83d5-4e5d56737ac5",
   "metadata": {},
   "source": [
    "**Ratings & user engagement**"
   ]
  },
  {
   "cell_type": "code",
   "execution_count": null,
   "id": "e5240e53-e249-4d7d-aee9-0052b6d32404",
   "metadata": {},
   "outputs": [],
   "source": [
    "# 4. Rating distribution\n",
    "def unrated_app(df):\n",
    "    counts = (df['rating'] == 0).sum()\n",
    "    print(\"The number of unrated apps:\", counts)\n",
    "\n",
    "    return counts\n",
    "\n",
    "def analyze_rating_app(df):\n",
    "    rating_counts = df.loc[df['rating']!= 0, 'rating'].value_counts().sort_index()\n",
    "    print(\"The frequency of the ratings by app\" , rating_counts)\n",
    "    return rating_counts\n",
    "    \n",
    "def analyze_rating_distribution(df):\n",
    "    df_filtered = df[df['rating'] > 0 ]\n",
    "    fig = px.histogram(df_filtered, x=\"rating\", nbins=20, title=\"Ratings Distribution\")\n",
    "    fig.show()"
   ]
  },
  {
   "cell_type": "code",
   "execution_count": null,
   "id": "802997fe-560a-4eae-9047-4b385055214e",
   "metadata": {},
   "outputs": [],
   "source": [
    "analyze_rating_distribution(df)"
   ]
  },
  {
   "cell_type": "markdown",
   "id": "1676d014-575f-478a-aea2-1ebeff9daf60",
   "metadata": {},
   "source": [
    "**Installs & popularity metrics**"
   ]
  },
  {
   "cell_type": "code",
   "execution_count": null,
   "id": "7d4bafd2-35b4-4dcf-ad6a-5ea258b31028",
   "metadata": {},
   "outputs": [],
   "source": [
    "def get_category_installs(df):\n",
    "    category_installs = df.groupby('category')['avg_installs'].mean().sort_values(ascending=False).head()\n",
    "    category_installs = category_installs.round(0).reset_index()\n",
    "    top3 = df.sort_values(by='avg_installs', ascending=False).head(3)\n",
    "    return category_installs, top3\n",
    "\n",
    "def plot_category_installs(category_installs, top3):\n",
    "    fig1 = px.bar(category_installs, x='category', y='avg_installs',\n",
    "            title='Top Categories by Average Installs',\n",
    "            labels={'avg_installs': 'Average Installs', 'category': 'Category'},\n",
    "            text='avg_installs')\n",
    "    fig1.show()\n",
    "    # Top 3 apps\n",
    "    top3 = df.sort_values(by='avg_installs', ascending=False).head(3)\n",
    "    fig2 = px.bar(top3, x='app_name', y='avg_installs', color='category',\n",
    "                  title='Top 3 Apps by Installs',\n",
    "                  text='avg_installs')\n",
    "    fig2.show()\n",
    "\n"
   ]
  },
  {
   "cell_type": "code",
   "execution_count": null,
   "id": "1877f7b3-8749-4518-bebb-b2392093f1cd",
   "metadata": {},
   "outputs": [],
   "source": [
    "category_installs,top3 = get_category_installs(df)\n",
    "plot_category_installs(category_installs, top3)"
   ]
  },
  {
   "cell_type": "markdown",
   "id": "27e506db-b418-4b9e-ae92-f1e7b56d5c84",
   "metadata": {},
   "source": [
    "___"
   ]
  },
  {
   "cell_type": "markdown",
   "id": "c8050398-c5af-4f46-b02c-f689a76ee305",
   "metadata": {},
   "source": [
    "# Deep Dive: Education Apps\n",
    "\n",
    "This section focuses on Education apps, with the goal of providing insights and recommendations directly relevant for XpertBot's Education app strategy.\n",
    "\n",
    "Objectives:\n",
    "- Understand the Education app market, user engagement, and monetization trends.\n",
    "- Identify high-performing apps and successful strategies.\n",
    "- Provide actionable recommendations to improve XpertBot's app downloads, ratings, and revenue.\n"
   ]
  },
  {
   "cell_type": "markdown",
   "id": "6c9cd06c-09d8-4adb-96df-a011c86146a9",
   "metadata": {},
   "source": [
    "**General summary & key metrics**"
   ]
  },
  {
   "cell_type": "code",
   "execution_count": null,
   "id": "dfd5f0d2-4ce1-4d7b-b187-9febc231c4cd",
   "metadata": {},
   "outputs": [],
   "source": [
    "def education_count(df):\n",
    "    edu_app =  df[df['category'].isin(['Educational','Education']) ]\n",
    "    edu_count = edu_app.shape[0]\n",
    "    avg_installs = edu_app['avg_installs'].mean().round(0)\n",
    "    subset_nonzero = edu_app[edu_app['rating'] != 0]\n",
    "    avg_rating_edu = subset_nonzero['rating'].mean().round(2)  # no need to groupby, only Education category\n",
    "    \n",
    "    print(\"The number of education apps is:\", edu_count)\n",
    "    print(\"\\nThe average installs of education apps is:\", avg_installs)\n",
    "    print(\"\\nThe average rating of the education apps is:\", avg_rating_edu)"
   ]
  },
  {
   "cell_type": "code",
   "execution_count": null,
   "id": "94335072-d5fd-497e-9f7c-23723673d349",
   "metadata": {},
   "outputs": [],
   "source": [
    "education_count(df)"
   ]
  },
  {
   "cell_type": "markdown",
   "id": "c8465545-c257-428f-af2e-e99c383397e7",
   "metadata": {},
   "source": [
    "\n",
    "*Education apps are numerous (~228k) with solid user engagement (avg. 33.8k installs) and a strong satisfaction level (avg. rating 4.19), indicating both high demand and generally positive user experience.*\n"
   ]
  },
  {
   "cell_type": "markdown",
   "id": "07ea3c80-6ed8-476d-aedf-b7ab2c770def",
   "metadata": {},
   "source": [
    "**Pricing & Monetization**"
   ]
  },
  {
   "cell_type": "code",
   "execution_count": null,
   "id": "981a2133-572d-4d39-a02c-c9c467c1799b",
   "metadata": {},
   "outputs": [],
   "source": [
    "def education_free_paid_stats(df):\n",
    "    # Filter Education apps\n",
    "    edu_app =  df[df['category'].isin(['Educational','Education']) ]\n",
    "    \n",
    "    # Count of Free and Paid apps\n",
    "    free_paid_count = edu_app['app_status'].map({1: 'Free', 0: 'Paid'}).value_counts()\n",
    "    \n",
    "    # Percentage of Free and Paid apps\n",
    "    free_paid_percentage = edu_app['app_status'].map({1: 'Free', 0: 'Paid'}).value_counts(normalize=True) * 100\n",
    "    \n",
    "    # Return values if you want to reuse them\n",
    "    return free_paid_count, free_paid_percentage\n",
    "\n",
    "def plot_education_free_paid(free_paid_count, free_paid_percentage):\n",
    "    # Prepare data\n",
    "    df_plot = free_paid_count.reset_index()\n",
    "    df_plot.columns = ['Status', 'Count']\n",
    "    df_plot['Percentage'] = free_paid_percentage.values.round(2)\n",
    "    \n",
    "    # Bar chart\n",
    "    fig = px.bar(df_plot, x='Status', y='Count', text='Percentage',\n",
    "                 title='Free vs Paid Education Apps',\n",
    "                 labels={'Count':'Number of Apps', 'Status':'App Status'})\n",
    "    \n",
    "    fig.update_traces(texttemplate='%{text}%', textposition='outside')\n",
    "    fig.show()\n",
    "\n",
    "def avg_paid_education_price(df):\n",
    "    # Filter Education apps\n",
    "    education_app =  df[df['category'].isin(['Educational','Education']) ]\n",
    "    \n",
    "    # Filter only paid apps\n",
    "    paid_education_apps = education_app[education_app['Price'] > 0]\n",
    "    \n",
    "    # Compute average price\n",
    "    avg_price = paid_education_apps['Price'].mean().round(3)\n",
    "    \n",
    "    # Print result\n",
    "    print(f'The average price of paid Education apps is ${avg_price}')\n",
    "    \n",
    "    # Return value for reuse\n",
    "    return avg_price"
   ]
  },
  {
   "cell_type": "code",
   "execution_count": null,
   "id": "35b0a8ac-78a0-42a0-a990-b004f83225f6",
   "metadata": {},
   "outputs": [],
   "source": [
    "# Compute stats first\n",
    "free_paid_count, free_paid_percentage = education_free_paid_stats(df)\n",
    "plot_education_free_paid(free_paid_count, free_paid_percentage)"
   ]
  },
  {
   "cell_type": "code",
   "execution_count": null,
   "id": "fcdc656e-1074-4f97-9be4-59bb07ac4599",
   "metadata": {},
   "outputs": [],
   "source": [
    "avg_price = avg_paid_education_price(df)"
   ]
  },
  {
   "cell_type": "markdown",
   "id": "f4be1045-018b-4acb-9e95-5002e321f293",
   "metadata": {},
   "source": [
    "*Paid Education apps are moderately priced on average (~$5.72), suggesting a low-cost barrier that aligns with accessibility and mass adoption strategies.*\n"
   ]
  },
  {
   "cell_type": "markdown",
   "id": "27527dda-9033-4898-8acf-d2a1ec0be66e",
   "metadata": {},
   "source": [
    "**Installs & Revenue Metrics**"
   ]
  },
  {
   "cell_type": "code",
   "execution_count": null,
   "id": "d9748544-a983-4a92-bdd8-c7eb4b595fff",
   "metadata": {},
   "outputs": [],
   "source": [
    "# Define function\n",
    "def revenue_summary(df):\n",
    "    \"\"\"Calculate total revenue for education apps vs all apps.\"\"\"\n",
    "    # Paid apps only\n",
    "    paid_apps = df[(df['Price'] > 0) & (df['avg_installs'] > 0)].copy()\n",
    "    paid_apps['revenue'] = paid_apps['Price'] * paid_apps['avg_installs']\n",
    "    \n",
    "    # Education revenue\n",
    "    edu_revenue = paid_apps[paid_apps['category'].isin(['Educational','Education'])]['revenue'].sum()\n",
    "    total_revenue = paid_apps['revenue'].sum()\n",
    "    edu_share = (edu_revenue / total_revenue) * 100\n",
    "    \n",
    "    print(\"Total Estimated Revenue Across All Paid Apps: ${:,.0f}\".format(total_revenue))\n",
    "    print(\"Education Apps Revenue: ${:,.0f}\".format(edu_revenue))\n",
    "    print(\"Education Share of Total Paid Revenue: {:.2f}%\".format(edu_share))\n",
    "\n",
    "    # Create dataframe of paid education apps\n",
    "    edu_paid = df[(df['category'] == 'Education') & (df['Price'] > 0) & (df['avg_installs'] > 0)].copy()\n",
    "    edu_paid['revenue'] = edu_paid['Price'] * edu_paid['avg_installs']\n",
    "    \n",
    "    return edu_revenue, total_revenue, edu_share, edu_paid\n",
    "\n"
   ]
  },
  {
   "cell_type": "code",
   "execution_count": null,
   "id": "ac4c504b-2c8b-4537-a3a1-1dc3d03d3957",
   "metadata": {},
   "outputs": [],
   "source": [
    "\n",
    "# Run function first to get edu_paid\n",
    "edu_revenue, total_revenue, edu_share, edu_paid = revenue_summary(df)\n",
    "\n",
    "# Format revenue with commas and round\n",
    "top5_revenue_apps = edu_paid.sort_values(by=\"revenue\", ascending=False).head(5).copy()\n",
    "top5_revenue_apps['revenue'] = top5_revenue_apps['revenue'].apply(lambda x: f\"${x:,.0f}\")\n",
    "top5_revenue_apps['avg_installs'] = top5_revenue_apps['avg_installs'].apply(lambda x: f\"{x:,.0f}\")\n",
    "\n",
    "# Show as table\n",
    "from IPython.display import display\n",
    "display(top5_revenue_apps[['app_name', 'Price', 'avg_installs', 'revenue']])\n"
   ]
  },
  {
   "cell_type": "markdown",
   "id": "b0545c77-ab3f-48fa-a568-73238d1b2520",
   "metadata": {},
   "source": [
    "**Developers Analysis**"
   ]
  },
  {
   "cell_type": "code",
   "execution_count": null,
   "id": "ecf58e1f-d619-41b7-a310-af11ec6fe3dd",
   "metadata": {},
   "outputs": [],
   "source": [
    "\n",
    "def top_education_developers(df, top_n=10):\n",
    "    # Filter Education apps\n",
    "    education_app = df[df['category'] == 'Education']\n",
    "    \n",
    "    # Count apps per developer\n",
    "    dev_by_app = education_app['developer_name'].value_counts().head(top_n)\n",
    "    \n",
    "    return dev_by_app\n",
    "\n",
    "def plot_top_education_developers(dev_by_app):\n",
    "    df_plot = dev_by_app.reset_index()\n",
    "    df_plot.columns = ['Developer', 'Number of Apps']\n",
    "    \n",
    "    fig = px.bar(df_plot, x='Number of Apps', y='Developer', orientation='h',\n",
    "                 title='Top 10 Education App Developers',\n",
    "                 text='Number of Apps')\n",
    "    \n",
    "    fig.update_layout(yaxis={'categoryorder':'total ascending'})  # largest on top\n",
    "    fig.show()\n"
   ]
  },
  {
   "cell_type": "code",
   "execution_count": null,
   "id": "389cd827-55f3-43df-b57e-fa2e9276b46c",
   "metadata": {},
   "outputs": [],
   "source": [
    "# Compute top developers\n",
    "dev_by_app = top_education_developers(df)\n",
    "\n",
    "# Plot top developers\n",
    "plot_top_education_developers(dev_by_app)"
   ]
  },
  {
   "cell_type": "markdown",
   "id": "a99bf166-d161-4033-bc03-284066945ce5",
   "metadata": {},
   "source": [
    "**Financing models analysis**"
   ]
  },
  {
   "cell_type": "code",
   "execution_count": null,
   "id": "33cf43fa-e829-48ce-97b2-346679b205f2",
   "metadata": {},
   "outputs": [],
   "source": [
    "def iap_stats(df):\n",
    "    # Overall apps with/without IAP\n",
    "    app_with_iap = df['in_app_purchases_flag'].value_counts()\n",
    "    p_app_with_iap = df['in_app_purchases_flag'].value_counts(normalize=True) * 100\n",
    "    \n",
    "    # Education apps\n",
    "    education_app =  df[df['category'].isin(['Educational','Education']) ]\n",
    "    edu_with_iap = education_app['in_app_purchases_flag'].value_counts()\n",
    "    edu_with_iap_percentage = education_app['in_app_purchases_flag'].value_counts(normalize=True) * 100\n",
    "    \n",
    "    # Education apps: IAP vs recommendation\n",
    "    edu_iap_recommend = education_app.groupby('play_store_recommend')['in_app_purchases_flag'].sum()\n",
    "    \n",
    "    # Return values for reuse (optional)\n",
    "    return app_with_iap, p_app_with_iap, edu_with_iap, edu_with_iap_percentage, edu_iap_recommend\n",
    "\n",
    "def plot_iap_stats(edu_with_iap, edu_iap_recommend):\n",
    "    # Education apps: Free vs Paid IAP\n",
    "    df_plot1 = edu_with_iap.reset_index()\n",
    "    df_plot1.columns = ['IAP', 'Count']\n",
    "    df_plot1['IAP'] = df_plot1['IAP'].map({0:'No IAP', 1:'Has IAP'})\n",
    "    \n",
    "    fig1 = px.pie(df_plot1, names='IAP', values='Count',\n",
    "                  title='Education Apps: With vs Without IAP')\n",
    "    fig1.show()\n",
    "\n",
    "def ads_distribution_education(df):\n",
    "    \n",
    "    edu_apps =  df[df['category'].isin(['Educational','Education']) ]\n",
    "    \n",
    "    # Count ads vs no ads\n",
    "    ads_counts = edu_apps['ads_flag'].map({1: \"With Ads\", 0: \"No Ads\"}).value_counts().reset_index()\n",
    "    ads_counts.columns = [\"Ads Status\", \"Count\"]\n",
    "    \n",
    "    # Percentage\n",
    "    ads_counts[\"Percentage\"] = (ads_counts[\"Count\"] / ads_counts[\"Count\"].sum()) * 100\n",
    "    \n",
    "    # Plot interactive pie chart\n",
    "    fig = px.pie(\n",
    "        ads_counts,\n",
    "        names=\"Ads Status\",\n",
    "        values=\"Count\",\n",
    "        title=\"Ads Distribution in Education Apps\",\n",
    "        hole=0.3\n",
    "    )\n",
    "    fig.show()\n",
    "\n",
    "\n",
    "def plot_free_apps_financing(df):\n",
    "    #filter education apps\n",
    "    education_app = df[df['category'].isin(['Education','Educational'])]\n",
    "    \n",
    "    # Classify free apps\n",
    "    free_apps = education_app[education_app['Price'] == 0].copy()\n",
    "    free_apps['financing_type'] = 'Nothing'\n",
    "    \n",
    "    free_apps.loc[(free_apps['ads_flag'] == 1) & (free_apps['in_app_purchases_flag'] == 1), 'financing_type'] = 'Ads + IAP'\n",
    "    free_apps.loc[(free_apps['ads_flag'] == 1) & (free_apps['in_app_purchases_flag'] == 0), 'financing_type'] = 'Ads only'\n",
    "    free_apps.loc[(free_apps['ads_flag'] == 0) & (free_apps['in_app_purchases_flag'] == 1), 'financing_type'] = 'IAP only'\n",
    "    \n",
    "    # Count and percentage\n",
    "    counts = free_apps['financing_type'].value_counts()\n",
    "    percent = (counts / counts.sum() * 100).round(2)\n",
    "\n",
    "    paid_apps = education_app[education_app['Price'] == 1].copy()\n",
    "    paid_apps['financing_type'] = 'Paid'\n",
    "\n",
    "    paid_apps.loc[(paid_apps['ads_flag'] == 1) & (paid_apps['in_app_purchases_flag'] == 1), 'financing_type'] = 'Ads + IAP'\n",
    "    paid_apps.loc[(paid_apps['ads_flag'] == 1) & (paid_apps['in_app_purchases_flag'] == 0), 'financing_type'] = 'Ads only'\n",
    "    paid_apps.loc[(paid_apps['ads_flag'] == 0) & (paid_apps['in_app_purchases_flag'] == 1), 'financing_type'] = 'IAP only'\n",
    "    \n",
    "    # Count and percentage\n",
    "    paid_counts = paid_apps['financing_type'].value_counts()\n",
    "    paid_percent = (paid_counts / paid_counts.sum() * 100).round(2)\n",
    "\n",
    "    print(f\"The distribution of the paid apps\")\n",
    "    print(paid_percent)\n",
    "    \n",
    "    # Plot pie chart\n",
    "    fig = px.pie(\n",
    "        names=counts.index,\n",
    "        values=counts.values,\n",
    "        title='Distribution of Free Education Apps by Financing Type',\n",
    "        hole=0.3  # donut chart style\n",
    "    )\n",
    "    fig.show()"
   ]
  },
  {
   "cell_type": "code",
   "execution_count": null,
   "id": "c4524736-24fc-45f2-acfe-074df3aef9fc",
   "metadata": {},
   "outputs": [],
   "source": [
    "# Compute stats\n",
    "app_with_iap, p_app_with_iap, edu_with_iap, edu_with_iap_percentage, edu_iap_recommend = iap_stats(df)\n",
    "\n",
    "# Plot\n",
    "plot_iap_stats(edu_with_iap, edu_iap_recommend)"
   ]
  },
  {
   "cell_type": "markdown",
   "id": "c7943363-9ad9-4059-957f-bb70fe20a19c",
   "metadata": {},
   "source": [
    "Only 7.6% of Education apps use in-app purchases (IAP). The vast majority (92.4%) rely on other revenue models or none at all."
   ]
  },
  {
   "cell_type": "code",
   "execution_count": null,
   "id": "81f3ee49-1ab0-4279-a406-94dcd5715847",
   "metadata": {},
   "outputs": [],
   "source": [
    "ads_distribution_education(df)"
   ]
  },
  {
   "cell_type": "markdown",
   "id": "6fb228aa-8dc6-46a7-833f-077be51a6182",
   "metadata": {},
   "source": [
    "Ads are a common but not dominant monetization strategy. Too many ads could hurt user experience."
   ]
  },
  {
   "cell_type": "code",
   "execution_count": null,
   "id": "c8bd120c-fb05-4f54-9717-5b58150048e1",
   "metadata": {},
   "outputs": [],
   "source": [
    "plot_free_apps_financing(df)"
   ]
  },
  {
   "cell_type": "markdown",
   "id": "0aa2056d-81e4-4059-bae0-a9d0a69fe5c0",
   "metadata": {},
   "source": [
    "The free segment is split: a majority simply offer free access (possibly funded externally), while others lean towards ads. Very few free apps use IAP, which suggests that monetizing educational content directly is less common."
   ]
  },
  {
   "cell_type": "markdown",
   "id": "15a070be-2d17-4631-90d2-cc52e86fdd85",
   "metadata": {},
   "source": [
    "Users who pay for Education apps expect an ad-free premium experience. Mixing ads into paid apps is rare and potentially risky."
   ]
  },
  {
   "cell_type": "markdown",
   "id": "0174908e-4e8a-4b95-b7ff-b1cd2c8646d6",
   "metadata": {},
   "source": [
    "### **Recommendations**\n",
    "\n",
    "The dominant and most accepted model in Education apps is Free (with optional ads or IAP).\n",
    "\n",
    "Launching as a free app will align with user expectations and maximize reach.\n",
    "\n",
    "Ads can be used moderately, but IAP (premium features, certificates, or advanced content) could be Xpertbot’s main monetization path, since apps combining Free + Ads + IAP tend to capture both installs and revenue streams (as we’ll confirm the final analysis).\n",
    "\n",
    "\n",
    "---"
   ]
  },
  {
   "cell_type": "markdown",
   "id": "2a7d8ab2-10a5-4b4d-8375-19d43361b3e2",
   "metadata": {},
   "source": [
    "# **Final Comparative Analysis**\n",
    "\n",
    "To better understand how Education apps position themselves in the wider Play Store ecosystem, we compare different financing strategies, adoption levels, and user ratings. This section evaluates the performance of free vs. paid models, the effectiveness of ads and in-app purchases, and the strategies used by top-performing apps. The goal is to highlight which approaches drive the highest installs and ratings, and to draw practical lessons for Xpertbot’s own education app."
   ]
  },
  {
   "cell_type": "markdown",
   "id": "785bceda-eae5-4a47-b592-7a4f9c3402b1",
   "metadata": {},
   "source": [
    "**Education apps & financing strategies**"
   ]
  },
  {
   "cell_type": "code",
   "execution_count": null,
   "id": "c7c17ab5-f5e8-49d2-9c13-67582532b22f",
   "metadata": {},
   "outputs": [],
   "source": [
    "def top10_educational_apps(df):\n",
    "    \"\"\"Show top 10 education apps by installs and their financing strategy\"\"\"\n",
    "    \n",
    "    # Filter education apps\n",
    "    edu_apps = df[df['category'].isin(['Educational','Education']) ]\n",
    "    \n",
    "    # Sort by installs\n",
    "    top10_edu = edu_apps.sort_values(by=\"avg_installs\", ascending=False).head(10)\n",
    "    \n",
    "    # Define financing strategy\n",
    "    def financing(row):\n",
    "        if row['app_status'] == 0:  # Paid app\n",
    "            return \"Paid App\"\n",
    "        elif row['ads_flag'] == 1 and row['in_app_purchases_flag'] == 1:\n",
    "            return \"Ads + IAP\"\n",
    "        elif row['ads_flag'] == 1:\n",
    "            return \"Ads Only\"\n",
    "        elif row['in_app_purchases_flag'] == 1:\n",
    "            return \"IAP Only\"\n",
    "        else:\n",
    "            return \"Free (No Revenue)\"\n",
    "    \n",
    "    # Apply strategy\n",
    "    top10_edu[\"financing_strategy\"] = top10_edu.apply(financing, axis=1)\n",
    "    \n",
    "    # Select relevant columns\n",
    "    top10_edu = top10_edu[[\"app_name\", \"avg_installs\", \"financing_strategy\", \"category\",\"rating\"]]\n",
    "    \n",
    "    return top10_edu\n",
    "\n",
    "def top_paid_edu_apps(df, n=10):\n",
    "    # Filter only education + paid apps\n",
    "    paid_edu = df[(df['category'].isin(['Education','Educational'])) & (df['app_status'] == 0)].copy()  # 0 = Paid\n",
    "    \n",
    "    # Define financing strategy\n",
    "    def financing(row):\n",
    "        if row['ads_flag'] == 1 and row['in_app_purchases_flag'] == 1:\n",
    "            return \"Paid + Ads + IAP\"\n",
    "        elif row['ads_flag'] == 1:\n",
    "            return \"Paid + Ads\"\n",
    "        elif row['in_app_purchases_flag'] == 1:\n",
    "            return \"Paid + IAP \"\n",
    "        else:\n",
    "            return \"Paid only\"\n",
    "    \n",
    "    paid_edu['financing_strategy'] = paid_edu.apply(financing, axis=1)\n",
    "    \n",
    "    # Sort by installs and select top N\n",
    "    top_paid_edu = paid_edu.sort_values(by=\"avg_installs\", ascending=False).head(n)\n",
    "    \n",
    "    return top_paid_edu[['app_name', 'avg_installs', 'Price', 'financing_strategy']]\n"
   ]
  },
  {
   "cell_type": "code",
   "execution_count": null,
   "id": "beac3dda-fcff-48e6-bd05-14ada973e47c",
   "metadata": {},
   "outputs": [],
   "source": [
    "top10_educational_apps(df)"
   ]
  },
  {
   "cell_type": "markdown",
   "id": "f245d09f-e6ea-4914-9fca-062f3de6969f",
   "metadata": {},
   "source": [
    "Top-performing apps use a hybrid monetization strategy, not just ads or just IAP."
   ]
  },
  {
   "cell_type": "code",
   "execution_count": null,
   "id": "67b7d7a2-bbc0-448b-9d09-c8bed0c2c84a",
   "metadata": {},
   "outputs": [],
   "source": [
    "top_paid_edu_apps(df)"
   ]
  },
  {
   "cell_type": "markdown",
   "id": "a559e664-86b2-4bf8-9e8d-818c8586934c",
   "metadata": {},
   "source": [
    "Paid apps can still succeed, but the market ceiling is much lower than free apps. Paid is more niche (parents buying games for kids, test prep apps, etc.)."
   ]
  },
  {
   "cell_type": "code",
   "execution_count": null,
   "id": "960acba6-57ae-48e0-ae28-fc38b7f5611f",
   "metadata": {},
   "outputs": [],
   "source": [
    "def free_vs_paid_performance(df):\n",
    "    \"\"\"Compare installs, ratings, and financing strategies between free and paid education apps.\"\"\"\n",
    "    edu_apps = df[df['category'] == 'Education'].copy()\n",
    "    \n",
    "    # Exclude invalid ratings\n",
    "    edu_apps = edu_apps[edu_apps['rating'] > 0]\n",
    "    \n",
    "    # Split datasets\n",
    "    free_apps = edu_apps[edu_apps['app_status'] == 1]   # Free\n",
    "    paid_apps = edu_apps[edu_apps['app_status'] == 0]   # Paid\n",
    "    \n",
    "    # --- Summary stats ---\n",
    "    summary = pd.DataFrame({\n",
    "        \"Avg Installs\": [free_apps['avg_installs'].mean(), paid_apps['avg_installs'].mean()],\n",
    "        \"Median Installs\": [free_apps['avg_installs'].median(), paid_apps['avg_installs'].median()],\n",
    "        \"Avg Rating\": [free_apps['rating'].mean(), paid_apps['rating'].mean()],\n",
    "        \"Median Rating\": [free_apps['rating'].median(), paid_apps['rating'].median()],\n",
    "        \"App Count\": [len(free_apps), len(paid_apps)]\n",
    "    }, index=[\"Free\", \"Paid\"])\n",
    "    \n",
    "    \n",
    "    # --- Financing strategies ---\n",
    "    def financing_breakdown(subset):\n",
    "        no_financing = ((subset['ads_flag'] == 0) & (subset['in_app_purchases_flag'] == 0)).sum()\n",
    "        ads_only = ((subset['ads_flag'] == 1) & (subset['in_app_purchases_flag'] == 0)).sum()\n",
    "        iap_only = ((subset['ads_flag'] == 0) & (subset['in_app_purchases_flag'] == 1)).sum()\n",
    "        both = ((subset['ads_flag'] == 1) & (subset['in_app_purchases_flag'] == 1)).sum()\n",
    "        return pd.Series({\n",
    "            \"No Financing\": no_financing,\n",
    "            \"Ads only\": ads_only,\n",
    "            \"In-App Purchases only\": iap_only,\n",
    "            \"Ads & IAP\": both\n",
    "        })\n",
    "    \n",
    "    financing = pd.DataFrame({\n",
    "        \"Free\": financing_breakdown(free_apps),\n",
    "        \"Paid\": financing_breakdown(paid_apps)\n",
    "    }).T\n",
    "    \n",
    "    # --- Visualization: installs ---\n",
    "    fig1 = px.box(\n",
    "        edu_apps,\n",
    "        x=\"app_status\",\n",
    "        y=\"avg_installs\",\n",
    "        title=\"Distribution of Installs: Free vs Paid Education Apps\",\n",
    "        labels={\"app_status\":\"App Type (1=Free, 0=Paid)\", \"avg_installs\":\"Average Installs\"},\n",
    "        log_y=True\n",
    "    )\n",
    "    fig1.show()"
   ]
  },
  {
   "cell_type": "code",
   "execution_count": null,
   "id": "490d85e3-e4af-45df-b3d4-ba592717cbd4",
   "metadata": {},
   "outputs": [],
   "source": [
    "free_vs_paid_performance(df)"
   ]
  },
  {
   "cell_type": "markdown",
   "id": "36897e74-4e7e-41e9-b523-9c6b4801b561",
   "metadata": {},
   "source": [
    "Ratings are about the same (both ~4.2)\n",
    "\n",
    "Users overwhelmingly prefer free apps. Paid apps are not better rated, so they don’t have a quality edge — they just limit adoption."
   ]
  },
  {
   "cell_type": "markdown",
   "id": "740138ff-5258-423f-94c5-76959400a3dc",
   "metadata": {},
   "source": [
    "**Financing strategy effectiveness**"
   ]
  },
  {
   "cell_type": "code",
   "execution_count": null,
   "id": "b8b8feec-766e-435c-aee7-b1ab59e5c482",
   "metadata": {},
   "outputs": [],
   "source": [
    "def financing_strategy_effectiveness(df):\n",
    "    edu_apps = df[df['category'] == 'Education'].copy()\n",
    "    edu_apps = edu_apps[edu_apps['rating'] > 0]  # drop invalid ratings\n",
    "    \n",
    "    # Define monetization type\n",
    "    def get_strategy(row):\n",
    "        if row['app_status'] == 0:  # Paid\n",
    "            return \"Paid\"\n",
    "        elif row['ads_flag'] == 1 and row['in_app_purchases_flag'] == 1:\n",
    "            return \"Free + Ads + IAP\"\n",
    "        elif row['ads_flag'] == 1:\n",
    "            return \"Free + Ads\"\n",
    "        elif row['in_app_purchases_flag'] == 1:\n",
    "            return \"Free + IAP\"\n",
    "        else:\n",
    "            return \"Free Only\"\n",
    "    \n",
    "    edu_apps['monetization'] = edu_apps.apply(get_strategy, axis=1)\n",
    "    \n",
    "    # Summary stats\n",
    "    summary = edu_apps.groupby('monetization').agg(\n",
    "        Avg_Installs=('avg_installs', 'mean'),\n",
    "        Median_Installs=('avg_installs', 'median'),\n",
    "        Avg_Rating=('rating', 'mean'),\n",
    "        Median_Rating=('rating', 'median'),\n",
    "        App_Count=('app_name', 'count')\n",
    "    ).sort_values(by='Avg_Installs', ascending=False)\n",
    "    \n",
    "    # Visualization: Installs\n",
    "    fig1 = px.bar(\n",
    "        summary.reset_index(),\n",
    "        x=\"monetization\", y=\"Avg_Installs\",\n",
    "        color=\"monetization\",\n",
    "        title=\"Average Installs by Financing Strategy (Education Apps)\",\n",
    "        log_y=True,\n",
    "        labels={\"Avg_Installs\": \"Average Installs (log scale)\"}\n",
    "    )\n",
    "    fig1.show()\n",
    "    \n",
    "    # Visualization: Ratings\n",
    "    fig2 = px.bar(\n",
    "        summary.reset_index(),\n",
    "        x=\"monetization\", y=\"Avg_Rating\",\n",
    "        color=\"monetization\",\n",
    "        title=\"Average Ratings by Financing Strategy (Education Apps)\",\n",
    "        labels={\"Avg_Rating\": \"Average Rating (0–5)\"}\n",
    "    )\n",
    "    fig2.show()\n",
    "\n",
    "    return summary\n"
   ]
  },
  {
   "cell_type": "code",
   "execution_count": null,
   "id": "be3a5bcc-975c-4707-afe8-c83ea2aed3de",
   "metadata": {},
   "outputs": [],
   "source": [
    "# Run\n",
    "financing_summary = financing_strategy_effectiveness(df)"
   ]
  },
  {
   "cell_type": "markdown",
   "id": "027b6e8c-1a4b-44f3-8a79-4ab66aa5c133",
   "metadata": {},
   "source": [
    "The most effective strategies are Free + IAP and Free + Ads + IAP. Ads-only apps underperform, while pure Free or Paid models miss out on monetization potential.\n",
    "\n",
    "---"
   ]
  },
  {
   "cell_type": "markdown",
   "id": "50940990-7d90-4d0a-ac0d-7ebb4554aa3d",
   "metadata": {},
   "source": [
    "### **Recommendation for Xpertbot**\n",
    "\n",
    "**Go Free at Launch:** To gain traction, Xpertbot should launch its app for free.\n",
    "\n",
    "**Adopt a Freemium Model (Free + IAP, optionally Ads):**\n",
    "\n",
    "Offer core features for free, but lock **advanced features, certifications, or premium content** behind in-app purchases.\n",
    "\n",
    "Ads can be included in the free version but must be limited to avoid hurting ratings.\n",
    "\n",
    "**Avoid Paid-only strategy:** It drastically reduces adoption with no rating advantage.\n",
    "\n",
    "**Position Against Competitors:** Apps like Duolingo and Photomath prove that Free + Ads + IAP is scalable, sustainable, and well-accepted by users."
   ]
  },
  {
   "cell_type": "markdown",
   "id": "9a6bfac1-dd17-45ed-bdee-bee167786a06",
   "metadata": {},
   "source": [
    "---"
   ]
  },
  {
   "cell_type": "markdown",
   "id": "c3677daa-e88d-46a3-a17a-58620e43e5a2",
   "metadata": {},
   "source": [
    "\n",
    "\n",
    "***Best Strategy for Xpertbot:***\n",
    "\n",
    "Adopt a Free + IAP (with optional ads) monetization model. Focus on strong user experience to secure high ratings, while gradually monetizing through advanced features or premium tiers."
   ]
  },
  {
   "cell_type": "markdown",
   "id": "eddb736f-d387-4f1f-8c1b-dde7db2bc26c",
   "metadata": {},
   "source": [
    "----"
   ]
  },
  {
   "cell_type": "markdown",
   "id": "6435e2f0-4cde-487f-927d-61ac16654061",
   "metadata": {},
   "source": [
    "### Limitations &  Next Steps\n",
    "\n",
    "This analysis offers strong insights into education apps on the Play Store but has some limitations. The dataset is a snapshot in time and may not reflect the newest apps or removals. Some fields, such as installs, were reported in ranges and averaged, which can distort results, especially for very large apps. Missing values required imputation, and revenue was inferred from financing strategies rather than actual earnings, so results should be seen as indicative rather than exact.\n",
    "\n",
    "For next steps, the analysis could be deepened by segmenting education apps into subcategories (e.g., language learning, test prep, kids’ games) and tracking trends over time. Benchmarking top competitors would reveal best practices, while analyzing user reviews could highlight needs and pain points. Building an interactive dashboard would give Xpertbot decision-makers a dynamic view of the market, and once the app is live, A/B testing different monetization models would confirm which strategies work best in practice.\n",
    "\n",
    "\n",
    "\n",
    "---"
   ]
  },
  {
   "cell_type": "markdown",
   "id": "208ee8b7-04a0-4d05-bc29-1247ad7bd354",
   "metadata": {},
   "source": [
    "In summary, the education app market is both promising and competitive. Free apps dominate adoption, while hybrid models (Free + IAP + Ads) drive the strongest performance. For Xpertbot, success will depend on offering a high-quality free app with thoughtful monetization through in-app purchases and, where appropriate, ads. Looking forward, continuous monitoring and A/B testing will help refine this strategy, ensuring sustainable growth and user satisfaction in the evolving education market."
   ]
  }
 ],
 "metadata": {
  "kernelspec": {
   "display_name": "Python 3 (ipykernel)",
   "language": "python",
   "name": "python3"
  },
  "language_info": {
   "codemirror_mode": {
    "name": "ipython",
    "version": 3
   },
   "file_extension": ".py",
   "mimetype": "text/x-python",
   "name": "python",
   "nbconvert_exporter": "python",
   "pygments_lexer": "ipython3",
   "version": "3.12.7"
  }
 },
 "nbformat": 4,
 "nbformat_minor": 5
}
